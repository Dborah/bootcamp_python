{
  "nbformat": 4,
  "nbformat_minor": 0,
  "metadata": {
    "colab": {
      "name": "tomando_decisoes.ipynb",
      "provenance": []
    },
    "kernelspec": {
      "name": "python3",
      "display_name": "Python 3"
    }
  },
  "cells": [
    {
      "cell_type": "markdown",
      "metadata": {
        "id": "ZS2pQcGBMvPY",
        "colab_type": "text"
      },
      "source": [
        "**Como podemos fazer como que nosso programa consiga modificar o fluxo de execução**\n"
      ]
    },
    {
      "cell_type": "code",
      "metadata": {
        "id": "5EBwUN4hM468",
        "colab_type": "code",
        "colab": {
          "base_uri": "https://localhost:8080/",
          "height": 86
        },
        "outputId": "ac8259ec-cf36-4665-f9a1-a8f9a4d6e526"
      },
      "source": [
        "#exemplo\n",
        "print(\"Exececução antes do if...\")\n",
        "\n",
        "numero = float(input(\"Entre com um número: \"))\n",
        "if numero%2 == 0:\n",
        "  print(\"Esse é um número par.\")\n",
        "\n",
        "print(\"Execução após do if...\")"
      ],
      "execution_count": 1,
      "outputs": [
        {
          "output_type": "stream",
          "text": [
            "Exececução antes do if...\n",
            "Entre com um número: 26\n",
            "Esse é um número par.\n",
            "Execução após do if...\n"
          ],
          "name": "stdout"
        }
      ]
    },
    {
      "cell_type": "code",
      "metadata": {
        "id": "0IOOetcyO_cz",
        "colab_type": "code",
        "colab": {
          "base_uri": "https://localhost:8080/",
          "height": 86
        },
        "outputId": "1c63b00b-6a04-4fec-9c0c-41b529b6b5dc"
      },
      "source": [
        "print(\"Execeução antes do if...\")\n",
        "\n",
        "numero = float(input(\"Entre com um número: \"))\n",
        "if numero > 0:\n",
        "  print(\"Esse número é positivo.\")\n",
        "\n",
        "print(\"Execução após do if...\")"
      ],
      "execution_count": 2,
      "outputs": [
        {
          "output_type": "stream",
          "text": [
            "Execeução antes do if...\n",
            "Entre com um número: 2\n",
            "Esse número é positivo.\n",
            "Execução após do if...\n"
          ],
          "name": "stdout"
        }
      ]
    },
    {
      "cell_type": "markdown",
      "metadata": {
        "id": "D_Jktka6QqrT",
        "colab_type": "text"
      },
      "source": [
        "**O caso if-else**\n"
      ]
    },
    {
      "cell_type": "code",
      "metadata": {
        "id": "7tfcRF2jQuKE",
        "colab_type": "code",
        "colab": {
          "base_uri": "https://localhost:8080/",
          "height": 104
        },
        "outputId": "b6c1bf0b-a5c3-4ebc-ae8a-d8fcbfe7b909"
      },
      "source": [
        "#exemplo\n",
        "print(\"Execução antes do if...\")\n",
        "\n",
        "numero = float(input(\"Entre com um número: \"))\n",
        "if numero % 2 == 0:\n",
        "  print(\"Esse número é par.\\n\")\n",
        "else:\n",
        "  print(\"Esse número não é par.\\n\")\n",
        "\n",
        "print(\"Execução após do if...\")"
      ],
      "execution_count": 3,
      "outputs": [
        {
          "output_type": "stream",
          "text": [
            "Execução antes do if...\n",
            "Entre com um número: 5\n",
            "Esse número não é par.\n",
            "\n",
            "Execução após do if...\n"
          ],
          "name": "stdout"
        }
      ]
    },
    {
      "cell_type": "code",
      "metadata": {
        "id": "xVy9SIr1S3Oq",
        "colab_type": "code",
        "colab": {
          "base_uri": "https://localhost:8080/",
          "height": 69
        },
        "outputId": "d07551a9-dafb-4cc3-fe12-44976817a3da"
      },
      "source": [
        "#encontrando o maior valor entre dois números inteiros digitados\n",
        "x = int(input(\"Digite o primeiro número: \"))\n",
        "y = int(input(\"Digite o segundo número: \"))\n",
        "\n",
        "if (x>y):\n",
        "  print(\"O primeiro valor (%2d) é maior que do segundo (%2d)\"%(x,y))\n",
        "else:\n",
        "  print(\"O primeiro valor (%2d) é menor que do segundo (%2d)\"%(x,y))"
      ],
      "execution_count": 7,
      "outputs": [
        {
          "output_type": "stream",
          "text": [
            "Digite o primeiro número: 12\n",
            "Digite o segundo número: 34\n",
            "O primeiro valor (12) é menor que do segundo (34)\n"
          ],
          "name": "stdout"
        }
      ]
    }
  ]
}

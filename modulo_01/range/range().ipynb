{
  "nbformat": 4,
  "nbformat_minor": 0,
  "metadata": {
    "colab": {
      "name": "range().ipynb",
      "provenance": []
    },
    "kernelspec": {
      "name": "python3",
      "display_name": "Python 3"
    }
  },
  "cells": [
    {
      "cell_type": "markdown",
      "metadata": {
        "id": "DBcT7MWshvPI",
        "colab_type": "text"
      },
      "source": [
        "**A função range()**"
      ]
    },
    {
      "cell_type": "code",
      "metadata": {
        "id": "KinmfAMdhyPR",
        "colab_type": "code",
        "colab": {
          "base_uri": "https://localhost:8080/",
          "height": 173
        },
        "outputId": "06b6aacd-076a-4dd7-d1fe-7b4c19be9563"
      },
      "source": [
        "# a função range(), assim como todos os índices começa no 0 e termina no n-1\n",
        "for i in range(8):\n",
        "  print(i)\n",
        "print(\"--Fim--\")"
      ],
      "execution_count": 1,
      "outputs": [
        {
          "output_type": "stream",
          "text": [
            "0\n",
            "1\n",
            "2\n",
            "3\n",
            "4\n",
            "5\n",
            "6\n",
            "7\n",
            "--Fim--\n"
          ],
          "name": "stdout"
        }
      ]
    },
    {
      "cell_type": "code",
      "metadata": {
        "id": "5sdNMepMiITb",
        "colab_type": "code",
        "colab": {
          "base_uri": "https://localhost:8080/",
          "height": 34
        },
        "outputId": "0d506b17-325e-402e-9d82-e9241de01750"
      },
      "source": [
        "#tipo de objeto range\n",
        "type(range(8))"
      ],
      "execution_count": 2,
      "outputs": [
        {
          "output_type": "execute_result",
          "data": {
            "text/plain": [
              "range"
            ]
          },
          "metadata": {
            "tags": []
          },
          "execution_count": 2
        }
      ]
    },
    {
      "cell_type": "code",
      "metadata": {
        "id": "_tMtv6KyiUVA",
        "colab_type": "code",
        "colab": {
          "base_uri": "https://localhost:8080/",
          "height": 191
        },
        "outputId": "4d97251f-79e4-46bf-d81e-dcaed0406c10"
      },
      "source": [
        "#definindo intervalos com o range()\n",
        "for i in range(1,10):\n",
        "  print(i)\n",
        "print(\"--Fim--\")"
      ],
      "execution_count": 3,
      "outputs": [
        {
          "output_type": "stream",
          "text": [
            "1\n",
            "2\n",
            "3\n",
            "4\n",
            "5\n",
            "6\n",
            "7\n",
            "8\n",
            "9\n",
            "--Fim--\n"
          ],
          "name": "stdout"
        }
      ]
    },
    {
      "cell_type": "code",
      "metadata": {
        "id": "xZ8MxmqKjTy3",
        "colab_type": "code",
        "colab": {
          "base_uri": "https://localhost:8080/",
          "height": 121
        },
        "outputId": "ce0776cd-8d7d-4f3f-ac25-5928f5237cd2"
      },
      "source": [
        "#definindo intervalos com o range(início, parada, incremento)\n",
        "for i in range(0,10, 2):\n",
        "  print(i)\n",
        "print(\"--Fim--\")"
      ],
      "execution_count": 5,
      "outputs": [
        {
          "output_type": "stream",
          "text": [
            "0\n",
            "2\n",
            "4\n",
            "6\n",
            "8\n",
            "--Fim--\n"
          ],
          "name": "stdout"
        }
      ]
    },
    {
      "cell_type": "code",
      "metadata": {
        "id": "nflXBZGckJUu",
        "colab_type": "code",
        "colab": {
          "base_uri": "https://localhost:8080/",
          "height": 208
        },
        "outputId": "ae598fe3-0e1a-4d90-ed8b-32232147439d"
      },
      "source": [
        "for i in range(10,0,-1):\n",
        "  print(i)\n",
        "print(\"--Fim--\")"
      ],
      "execution_count": 10,
      "outputs": [
        {
          "output_type": "stream",
          "text": [
            "10\n",
            "9\n",
            "8\n",
            "7\n",
            "6\n",
            "5\n",
            "4\n",
            "3\n",
            "2\n",
            "1\n",
            "--Fim--\n"
          ],
          "name": "stdout"
        }
      ]
    },
    {
      "cell_type": "code",
      "metadata": {
        "id": "YEGBfJkilGFL",
        "colab_type": "code",
        "colab": {
          "base_uri": "https://localhost:8080/",
          "height": 34
        },
        "outputId": "515bdc7b-c684-48bd-b36a-b6c0b387002d"
      },
      "source": [
        "string = 'deborah'\n",
        "len(string)"
      ],
      "execution_count": 13,
      "outputs": [
        {
          "output_type": "execute_result",
          "data": {
            "text/plain": [
              "7"
            ]
          },
          "metadata": {
            "tags": []
          },
          "execution_count": 13
        }
      ]
    },
    {
      "cell_type": "code",
      "metadata": {
        "id": "g46PciLWkkKM",
        "colab_type": "code",
        "colab": {
          "base_uri": "https://localhost:8080/",
          "height": 173
        },
        "outputId": "a723c65b-9865-41eb-e2c8-830fa2c00d44"
      },
      "source": [
        "#verificando índices de uma string\n",
        "string = input(\"Entre com uma string: \")\n",
        "for caracter in range(len(string)):\n",
        "  print(string[caracter])\n",
        "print(\"--Fim--\")"
      ],
      "execution_count": 12,
      "outputs": [
        {
          "output_type": "stream",
          "text": [
            "Entre com uma string: deborah\n",
            "d\n",
            "e\n",
            "b\n",
            "o\n",
            "r\n",
            "a\n",
            "h\n",
            "--Fim--\n"
          ],
          "name": "stdout"
        }
      ]
    },
    {
      "cell_type": "code",
      "metadata": {
        "id": "Q5t6W04Ilw_a",
        "colab_type": "code",
        "colab": {
          "base_uri": "https://localhost:8080/",
          "height": 173
        },
        "outputId": "8d40d486-cc40-4731-88dc-74de8a9611c8"
      },
      "source": [
        "#realizando o print de trás para frente\n",
        "string = input(\"Entre com uma string: \")\n",
        "for caracter in range(len(string)-1, -1, -1 ):\n",
        "  print(string[caracter])\n",
        "print(\"--Fim--\")\n"
      ],
      "execution_count": 14,
      "outputs": [
        {
          "output_type": "stream",
          "text": [
            "Entre com uma string: deborah\n",
            "h\n",
            "a\n",
            "r\n",
            "o\n",
            "b\n",
            "e\n",
            "d\n",
            "--Fim--\n"
          ],
          "name": "stdout"
        }
      ]
    },
    {
      "cell_type": "code",
      "metadata": {
        "id": "vyWWo55DmBlB",
        "colab_type": "code",
        "colab": {
          "base_uri": "https://localhost:8080/",
          "height": 86
        },
        "outputId": "cd009eeb-fa39-4c2b-ceb8-eb70a52249c6"
      },
      "source": [
        "#realizando o print de cada uma das palavras em um strin com o método split() \n",
        "string = \"Déborah Ferreira Fonseca\"\n",
        "for palavras in string.split():\n",
        "  print(palavras)\n",
        "print(\"--Fim--\")"
      ],
      "execution_count": 15,
      "outputs": [
        {
          "output_type": "stream",
          "text": [
            "Déborah\n",
            "Ferreira\n",
            "Fonseca\n",
            "--Fim--\n"
          ],
          "name": "stdout"
        }
      ]
    },
    {
      "cell_type": "code",
      "metadata": {
        "id": "T5sCJjvWmeR3",
        "colab_type": "code",
        "colab": {
          "base_uri": "https://localhost:8080/",
          "height": 34
        },
        "outputId": "f230f5aa-fe4c-4f19-a3e7-2c4b49623c1d"
      },
      "source": [
        "type(string.split())"
      ],
      "execution_count": 16,
      "outputs": [
        {
          "output_type": "execute_result",
          "data": {
            "text/plain": [
              "list"
            ]
          },
          "metadata": {
            "tags": []
          },
          "execution_count": 16
        }
      ]
    }
  ]
}

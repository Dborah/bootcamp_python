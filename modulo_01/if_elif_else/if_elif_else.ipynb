{
  "nbformat": 4,
  "nbformat_minor": 0,
  "metadata": {
    "colab": {
      "name": "if_elif_else.ipynb",
      "provenance": []
    },
    "kernelspec": {
      "name": "python3",
      "display_name": "Python 3"
    }
  },
  "cells": [
    {
      "cell_type": "markdown",
      "metadata": {
        "id": "QVk-BtmvQTau",
        "colab_type": "text"
      },
      "source": [
        "**if-elif_else**"
      ]
    },
    {
      "cell_type": "code",
      "metadata": {
        "id": "gjk1LIl9QXFj",
        "colab_type": "code",
        "colab": {
          "base_uri": "https://localhost:8080/",
          "height": 34
        },
        "outputId": "7e10b25d-6b8c-45e0-a35e-5c864c3e2306"
      },
      "source": [
        "i = 200\n",
        "if (i == 10):\n",
        "  print(\"i é igual a 10\")\n",
        "elif (i == 15):\n",
        "  print(\"i é igual a 15\")\n",
        "elif (i == 20):\n",
        "  print(\"i é igual a 20\")\n",
        "else: \n",
        "  print(\"i não está nas condições\")"
      ],
      "execution_count": 2,
      "outputs": [
        {
          "output_type": "stream",
          "text": [
            "i não está nas condições\n"
          ],
          "name": "stdout"
        }
      ]
    },
    {
      "cell_type": "code",
      "metadata": {
        "id": "ZpcCJdq7TFSt",
        "colab_type": "code",
        "colab": {
          "base_uri": "https://localhost:8080/",
          "height": 156
        },
        "outputId": "24543bf7-1827-4c11-8e43-ae6dc6a09b35"
      },
      "source": [
        "x = float(input(\"Entre com o primeiro número: \"))\n",
        "y = float(input(\"Entre com o segundo número: \"))\n",
        "\n",
        "print(\"(1) - Soma dois números: \")\n",
        "print(\"(2) - Subtrai dois números: \")\n",
        "print(\"(3) - Multiplica dois números: \")\n",
        "print(\"(4) - Divide dois números: \")\n",
        "\n",
        "escolha = int(input(\"Escolha uma das opções: \"))\n",
        "\n",
        "print(\"O resultado é: \", end=\"\")\n",
        "\n",
        "if escolha == 1:\n",
        "  print(x+y)\n",
        "elif escolha == 2:\n",
        "  print(x-y)\n",
        "elif escolha == 3:\n",
        "  print(x*y)\n",
        "elif (escolha == 4):\n",
        "  print(x/y)\n",
        "else:\n",
        "  print(\"Opção inválida.\")"
      ],
      "execution_count": 4,
      "outputs": [
        {
          "output_type": "stream",
          "text": [
            "Entre com o primeiro número: 10\n",
            "Entre com o segundo número: 90\n",
            "(1) - Soma dois números: \n",
            "(2) - Subtrai dois números: \n",
            "(3) - Multiplica dois números: \n",
            "(4) - Divide dois números: \n",
            "Escolha uma das opções: 5\n",
            "O resultado é: Opção inválida.\n"
          ],
          "name": "stdout"
        }
      ]
    },
    {
      "cell_type": "markdown",
      "metadata": {
        "id": "flY9uhHdUJXs",
        "colab_type": "text"
      },
      "source": [
        "**encontrando o maior entre 3 números**"
      ]
    },
    {
      "cell_type": "code",
      "metadata": {
        "id": "prJGXr9dUOIC",
        "colab_type": "code",
        "colab": {
          "base_uri": "https://localhost:8080/",
          "height": 104
        },
        "outputId": "b8f7f209-f511-4e23-f974-09fa01b1cbf9"
      },
      "source": [
        "x = int(input(\"Entre com o primeiro número inteiro: \"))\n",
        "y = int(input(\"Entre com o segundo número inteiro: \"))\n",
        "z = int(input(\"Entre com o terceiro número inteiro: \"))\n",
        "\n",
        "#primeiro chute\n",
        "maior_numero = x\n",
        "if y > maior_numero :\n",
        "  #ajusta o primeiro chute\n",
        "  maior_numero = y\n",
        "  if z > maior_numero:\n",
        "    #ajusta o segundo chute\n",
        "    maior_numero = z\n",
        "print(maior_numero, \"é o maior número.\")\n",
        "print(\"Fim\")\n"
      ],
      "execution_count": 7,
      "outputs": [
        {
          "output_type": "stream",
          "text": [
            "Entre com o primeiro número inteiro: 4\n",
            "Entre com o segundo número inteiro: 3\n",
            "Entre com o terceiro número inteiro: 2\n",
            "4 é o maior número.\n",
            "Fim\n"
          ],
          "name": "stdout"
        }
      ]
    }
  ]
}

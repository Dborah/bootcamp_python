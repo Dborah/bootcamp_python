{
  "nbformat": 4,
  "nbformat_minor": 0,
  "metadata": {
    "colab": {
      "name": "if_aninhados.ipynb",
      "provenance": []
    },
    "kernelspec": {
      "name": "python3",
      "display_name": "Python 3"
    }
  },
  "cells": [
    {
      "cell_type": "markdown",
      "metadata": {
        "id": "P3lZqd2_EvL1",
        "colab_type": "text"
      },
      "source": [
        "** if com condições mais \"elaboradas\"**"
      ]
    },
    {
      "cell_type": "code",
      "metadata": {
        "id": "hI8RLSqPE4V5",
        "colab_type": "code",
        "colab": {
          "base_uri": "https://localhost:8080/",
          "height": 52
        },
        "outputId": "a64953b0-c838-4e5c-eff8-26ee44b21ed5"
      },
      "source": [
        "#if com condicional or\n",
        "altura = int(input(\"Entre com sua sua altura (em centímetros): \"))\n",
        "if (altura < 150) or (altura > 180):\n",
        "  print(\"Voc não pode brincar\")\n",
        "else:\n",
        "  print(\"Vocẽ pode brincar\")\n"
      ],
      "execution_count": 4,
      "outputs": [
        {
          "output_type": "stream",
          "text": [
            "Entre com sua sua altura (em centímetros): 170\n",
            "Vocẽ pode brincar\n"
          ],
          "name": "stdout"
        }
      ]
    },
    {
      "cell_type": "code",
      "metadata": {
        "id": "KJyVFIe9HGYs",
        "colab_type": "code",
        "colab": {
          "base_uri": "https://localhost:8080/",
          "height": 86
        },
        "outputId": "ffebacfd-e5ba-494c-db9d-52c5c658f60a"
      },
      "source": [
        "#adivinhando resultados da divisão\n",
        "numerador = float(input(\"Entre com o numerador: \"))\n",
        "denominador = float(input(\"Entre com o denominador: \"))\n",
        "\n",
        "chute = float(input(\"Entre com o seu chute pra o resultado: \"))\n",
        "\n",
        "resultado = numerador/denominador\n",
        "\n",
        "maior = abs(resultado)\n",
        "\n",
        "#verifica se o chute é até 1/10 do real\n",
        "if abs((chute - resultado)/maior <= 0.1):\n",
        "    print(\"Seu chute está correto. Parabéns!\")\n",
        "else:\n",
        "  print(\"Você errou. O valor correto é {}\".format(resultado))"
      ],
      "execution_count": 7,
      "outputs": [
        {
          "output_type": "stream",
          "text": [
            "Entre com o numerador: 30\n",
            "Entre com o denominador: 45\n",
            "Entre com o seu chute pra o resultado: 23\n",
            "Você errou. O valor correto é 0.6666666666666666\n"
          ],
          "name": "stdout"
        }
      ]
    },
    {
      "cell_type": "markdown",
      "metadata": {
        "id": "2jMFxjoyNWFU",
        "colab_type": "text"
      },
      "source": [
        "**if aninhados**"
      ]
    },
    {
      "cell_type": "code",
      "metadata": {
        "id": "NVK9oyneLtcW",
        "colab_type": "code",
        "colab": {
          "base_uri": "https://localhost:8080/",
          "height": 34
        },
        "outputId": "69231470-b1ea-4aa4-bc33-8d52467c6290"
      },
      "source": [
        "i = 12\n",
        "if ( i == 10):\n",
        "  #primeiro if\n",
        "  if (i < 5):\n",
        "    print(\"i é maior que 5\")\n",
        "  #o if aninhado só é executado se o anterior for executado\n",
        "  if (i < 12):\n",
        "    print(\"i também é menor que 12\")\n",
        "  else:\n",
        "    print(\"i é maior que 15\")\n",
        "print(\"Continua o programa\")\n"
      ],
      "execution_count": 9,
      "outputs": [
        {
          "output_type": "stream",
          "text": [
            "Continua o programa\n"
          ],
          "name": "stdout"
        }
      ]
    },
    {
      "cell_type": "code",
      "metadata": {
        "id": "4oRAK4t-Nw9U",
        "colab_type": "code",
        "colab": {
          "base_uri": "https://localhost:8080/",
          "height": 156
        },
        "outputId": "7706cc21-5a20-4f28-af18-f5b336613303"
      },
      "source": [
        "x = float(input(\"Entre com o primeiro número: \"))\n",
        "y = float(input(\"Entre com o segundo número: \"))\n",
        "\n",
        "print(\"(1) - Soma dois números: \")\n",
        "print(\"(2) - Subtrai dois números: \")\n",
        "print(\"(3) - Multiplica dois números: \")\n",
        "print(\"(4) - Divide dois números: \")\n",
        "\n",
        "escolha = int(input(\"Escolha uma das opções: \"))\n",
        "\n",
        "print(\"O resultado é: \", end=\"\")\n",
        "\n",
        "if escolha == 1:\n",
        "  print(x+y)\n",
        "else:\n",
        "  if escolha == 2:\n",
        "    print(x-y)\n",
        "  else:\n",
        "    if escolha == 3:\n",
        "      print(x*y)\n",
        "    else:\n",
        "      if(escolha == 4):\n",
        "        print(x/y)\n",
        "      else:\n",
        "        print(\"Opção inválida.\")"
      ],
      "execution_count": 14,
      "outputs": [
        {
          "output_type": "stream",
          "text": [
            "Entre com o primeiro número: 10\n",
            "Entre com o segundo número: 20\n",
            "(1) - Soma dois números: \n",
            "(2) - Subtrai dois números: \n",
            "(3) - Multiplica dois números: \n",
            "(4) - Divide dois números: \n",
            "Escolha uma das opções: 3\n",
            "O resultado é: 200.0\n"
          ],
          "name": "stdout"
        }
      ]
    }
  ]
}

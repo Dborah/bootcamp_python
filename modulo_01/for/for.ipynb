{
  "nbformat": 4,
  "nbformat_minor": 0,
  "metadata": {
    "colab": {
      "name": "for.ipynb",
      "provenance": []
    },
    "kernelspec": {
      "name": "python3",
      "display_name": "Python 3"
    }
  },
  "cells": [
    {
      "cell_type": "code",
      "metadata": {
        "id": "V7oG8nWHW92D",
        "colab_type": "code",
        "colab": {
          "base_uri": "https://localhost:8080/",
          "height": 173
        },
        "outputId": "42abe7ec-1601-4b9f-87d6-4f5460f7b3ad"
      },
      "source": [
        "#interar em uma string\n",
        "string = input(\"Entre com uma sequência de caracteres: \")\n",
        "for caracteres in string:\n",
        "  print(caracteres)\n",
        "print(\"--Fim--\")"
      ],
      "execution_count": 2,
      "outputs": [
        {
          "output_type": "stream",
          "text": [
            "Entre com uma sequência de caracteres: Déborah\n",
            "D\n",
            "é\n",
            "b\n",
            "o\n",
            "r\n",
            "a\n",
            "h\n",
            "--Fim--\n"
          ],
          "name": "stdout"
        }
      ]
    },
    {
      "cell_type": "markdown",
      "metadata": {
        "id": "mB0ASQ1Wfmxv",
        "colab_type": "text"
      },
      "source": [
        "**listas também são um sequência**\n"
      ]
    },
    {
      "cell_type": "code",
      "metadata": {
        "id": "S37ll2Xlfsud",
        "colab_type": "code",
        "colab": {
          "base_uri": "https://localhost:8080/",
          "height": 121
        },
        "outputId": "14b01e9b-779c-451f-de47-0425a3f94f43"
      },
      "source": [
        "#interação em uma lista\n",
        "lista = ['IGTI', \"Bootcamp\", \"Python\", 2020, [3, 4]]\n",
        "for elemento in lista:\n",
        "  print(elemento)\n",
        "print(\"--Fim--\")"
      ],
      "execution_count": 5,
      "outputs": [
        {
          "output_type": "stream",
          "text": [
            "IGTI\n",
            "Bootcamp\n",
            "Python\n",
            "2020\n",
            "[3, 4]\n",
            "--Fim--\n"
          ],
          "name": "stdout"
        }
      ]
    }
  ]
}

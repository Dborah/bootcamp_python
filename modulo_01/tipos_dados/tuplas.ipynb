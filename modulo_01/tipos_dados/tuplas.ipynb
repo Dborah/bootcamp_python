{
  "nbformat": 4,
  "nbformat_minor": 0,
  "metadata": {
    "colab": {
      "name": "tuplas.ipynb",
      "provenance": []
    },
    "kernelspec": {
      "name": "python3",
      "display_name": "Python 3"
    }
  },
  "cells": [
    {
      "cell_type": "markdown",
      "metadata": {
        "id": "KlrBv6DlP_Rj",
        "colab_type": "text"
      },
      "source": [
        "**Tuplas**\n",
        "\n",
        "*   Imutáveis\n",
        "*   Podem possuir vários tipos de elementos\n",
        "\n",
        "\n"
      ]
    },
    {
      "cell_type": "code",
      "metadata": {
        "id": "n_suop8MQSEF",
        "colab_type": "code",
        "colab": {
          "base_uri": "https://localhost:8080/",
          "height": 69
        },
        "outputId": "973dd97b-6a7a-4137-a742-e3229d0d65d6"
      },
      "source": [
        "#criando um tupla vazia\n",
        "tupla = ()\n",
        "print(\"Tupla vazia: \")\n",
        "print(tupla)\n",
        "print(type(tupla))"
      ],
      "execution_count": 5,
      "outputs": [
        {
          "output_type": "stream",
          "text": [
            "Tupla vazia: \n",
            "()\n",
            "<class 'tuple'>\n"
          ],
          "name": "stdout"
        }
      ]
    },
    {
      "cell_type": "code",
      "metadata": {
        "id": "8CzQSK38RQ92",
        "colab_type": "code",
        "colab": {
          "base_uri": "https://localhost:8080/",
          "height": 52
        },
        "outputId": "9ba0748c-16d7-4aa8-a7d8-4d7376e38dff"
      },
      "source": [
        "#criando um tupla com string\n",
        "tupla= (\"IGTI\", \"Python\")\n",
        "print(\"Tupla utilizando string: \")\n",
        "print(tupla)"
      ],
      "execution_count": 6,
      "outputs": [
        {
          "output_type": "stream",
          "text": [
            "Tupla utilizando string: \n",
            "('IGTI', 'Python')\n"
          ],
          "name": "stdout"
        }
      ]
    },
    {
      "cell_type": "code",
      "metadata": {
        "id": "QOs0PyDMR44Q",
        "colab_type": "code",
        "colab": {
          "base_uri": "https://localhost:8080/",
          "height": 86
        },
        "outputId": "e534358d-9b87-4cbf-ee30-1a48c8a388a8"
      },
      "source": [
        "#criando um tupla a partir de uma lista\n",
        "lista = [1, 2, 3, 4, 5, 6]\n",
        "print(type(lista))\n",
        "print(\"Tupla a partir de uma lista: \")\n",
        "print(tuple(lista))\n",
        "print(type(tuple(lista)))\n",
        "\n"
      ],
      "execution_count": 9,
      "outputs": [
        {
          "output_type": "stream",
          "text": [
            "<class 'list'>\n",
            "Tupla a partir de uma lista: \n",
            "(1, 2, 3, 4, 5, 6)\n",
            "<class 'tuple'>\n"
          ],
          "name": "stdout"
        }
      ]
    },
    {
      "cell_type": "code",
      "metadata": {
        "id": "8gVNwIyrSwNQ",
        "colab_type": "code",
        "colab": {
          "base_uri": "https://localhost:8080/",
          "height": 52
        },
        "outputId": "6cbd06e5-0251-4a5b-dfc8-a2940ac12585"
      },
      "source": [
        "#criando uma tupla através da função tuple()\n",
        "tupla = tuple('IGTI')\n",
        "print(\"Criando uma tupla através da função tuple(): \")\n",
        "print(tupla)"
      ],
      "execution_count": 10,
      "outputs": [
        {
          "output_type": "stream",
          "text": [
            "Criando uma tupla através da função tuple(): \n",
            "('I', 'G', 'T', 'I')\n"
          ],
          "name": "stdout"
        }
      ]
    },
    {
      "cell_type": "code",
      "metadata": {
        "id": "1nBH_V6pTerf",
        "colab_type": "code",
        "colab": {
          "base_uri": "https://localhost:8080/",
          "height": 52
        },
        "outputId": "1b946934-bd9f-4b54-8fe4-26cb507e1613"
      },
      "source": [
        "#criando tuplas aninhadas\n",
        "tupla_1 = (0, 1, 2, 3)\n",
        "tupla_2 = ('python', 'IGTI')\n",
        "tupla_3 = (tupla_1, tupla_2)\n",
        "print(\"Tuplas aninhadas: \")\n",
        "print(tupla_3)"
      ],
      "execution_count": 11,
      "outputs": [
        {
          "output_type": "stream",
          "text": [
            "Tuplas aninhadas: \n",
            "((0, 1, 2, 3), ('python', 'IGTI'))\n"
          ],
          "name": "stdout"
        }
      ]
    },
    {
      "cell_type": "markdown",
      "metadata": {
        "id": "34N0y5W3T5Q-",
        "colab_type": "text"
      },
      "source": [
        "**Acessando elementos em uma tupla**"
      ]
    },
    {
      "cell_type": "code",
      "metadata": {
        "id": "pF-yxuoySdLD",
        "colab_type": "code",
        "colab": {
          "base_uri": "https://localhost:8080/",
          "height": 121
        },
        "outputId": "98cb100c-0428-482d-b3e1-6a6672f012e3"
      },
      "source": [
        "#criando um tupla através da função\n",
        "tupla = tuple([1, 2, 3, 4, 5])\n",
        "\n",
        "#acessando  o elemento através do índice\n",
        "print(\"Primeiro elemento  da tupla: \")\n",
        "print(tupla[0])\n",
        "\n",
        "#acessando o último elemento através do índice\n",
        "print(\"Último elemento  da tupla: \")\n",
        "print(tupla[-1])\n",
        "\n",
        "print(\"Penúltimo elemento da tupla: \")\n",
        "print(tupla[-2])"
      ],
      "execution_count": 13,
      "outputs": [
        {
          "output_type": "stream",
          "text": [
            "Primeiro elemento  da tupla: \n",
            "1\n",
            "Último elemento  da tupla: \n",
            "5\n",
            "Penúltimo elemento da tupla: \n",
            "4\n"
          ],
          "name": "stdout"
        }
      ]
    }
  ]
}

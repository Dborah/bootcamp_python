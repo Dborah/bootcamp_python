{
  "nbformat": 4,
  "nbformat_minor": 0,
  "metadata": {
    "colab": {
      "name": "dicionarios.ipynb",
      "provenance": []
    },
    "kernelspec": {
      "name": "python3",
      "display_name": "Python 3"
    }
  },
  "cells": [
    {
      "cell_type": "markdown",
      "metadata": {
        "id": "4hWnh01asjxc",
        "colab_type": "text"
      },
      "source": [
        "**Dicionários**\n",
        "\n",
        "\n",
        "1.   Não ordenado\n",
        "2.   Armazena o par chave:valor\n",
        "3.   As chaves não podem ser repetidas\n",
        "4.   Podem armazenar vários tipos de valores\n",
        "\n",
        "\n",
        "\n"
      ]
    },
    {
      "cell_type": "code",
      "metadata": {
        "id": "Vuae-faDtCTW",
        "colab_type": "code",
        "colab": {
          "base_uri": "https://localhost:8080/",
          "height": 69
        },
        "outputId": "cbaa9d65-1f70-4cf5-ea0b-0dcd5925ef3a"
      },
      "source": [
        "#criando um dicionário vazio\n",
        "dicionario = {}\n",
        "print(\"Dicionário vazio: \")\n",
        "print(dicionario)\n",
        "print(type(dicionario))"
      ],
      "execution_count": 2,
      "outputs": [
        {
          "output_type": "stream",
          "text": [
            "Dicionário vazio: \n",
            "{}\n",
            "<class 'dict'>\n"
          ],
          "name": "stdout"
        }
      ]
    },
    {
      "cell_type": "code",
      "metadata": {
        "id": "rKLStUzst3Hw",
        "colab_type": "code",
        "colab": {
          "base_uri": "https://localhost:8080/",
          "height": 52
        },
        "outputId": "aadd6575-89ae-420c-ab5d-d707564f8b48"
      },
      "source": [
        "#criando um dicionário com chaves inteiras\n",
        "dicionario = {1: 'IGTI', 2: 'BOOTCAMP', 3: 'IGTI'}\n",
        "print(\"Dicionário com chaves inteiras: \")\n",
        "print(dicionario)"
      ],
      "execution_count": 3,
      "outputs": [
        {
          "output_type": "stream",
          "text": [
            "Dicionário com chaves inteiras: \n",
            "{1: 'IGTI', 2: 'BOOTCAMP', 3: 'IGTI'}\n"
          ],
          "name": "stdout"
        }
      ]
    },
    {
      "cell_type": "code",
      "metadata": {
        "id": "0m9FY0eRufq-",
        "colab_type": "code",
        "colab": {
          "base_uri": "https://localhost:8080/",
          "height": 52
        },
        "outputId": "f538a0c8-62a8-4e0c-f9b9-93dd21e0f9ff"
      },
      "source": [
        "#criando um dicionário com vários tipos de chaves e valores\n",
        "dicionario = {'escola': 'IGTI', 1: [1, 2, 3, 4]}\n",
        "print(\"Dicionário com diferentes tipos de chaves e valores: \")\n",
        "print(dicionario)"
      ],
      "execution_count": 4,
      "outputs": [
        {
          "output_type": "stream",
          "text": [
            "Dicionário com diferentes tipos de chaves e valores: \n",
            "{'escola': 'IGTI', 1: [1, 2, 3, 4]}\n"
          ],
          "name": "stdout"
        }
      ]
    },
    {
      "cell_type": "code",
      "metadata": {
        "id": "nJvBA_bnu32w",
        "colab_type": "code",
        "colab": {
          "base_uri": "https://localhost:8080/",
          "height": 52
        },
        "outputId": "b5ba3957-c2bf-40ed-dedb-a3b1174db3ff"
      },
      "source": [
        "#criando dicionários com o dict\n",
        "dicionario = dict({1: 'IGTI', 2: 'BOOTCAMP', 3: 'IGTI'})\n",
        "print(\"Criando dicionário com o   método dict(): \")\n",
        "print(dicionario)"
      ],
      "execution_count": 5,
      "outputs": [
        {
          "output_type": "stream",
          "text": [
            "Criando dicionário com o   método dict(): \n",
            "{1: 'IGTI', 2: 'BOOTCAMP', 3: 'IGTI'}\n"
          ],
          "name": "stdout"
        }
      ]
    },
    {
      "cell_type": "code",
      "metadata": {
        "id": "92HnYJLKvZC4",
        "colab_type": "code",
        "colab": {
          "base_uri": "https://localhost:8080/",
          "height": 52
        },
        "outputId": "e715ff23-b8b0-452f-a079-8997cbe574cf"
      },
      "source": [
        "#criando dicionarios com o estilo (chave, valor)\n",
        "dicionario = dict([(1, 'IGTI'), (2, 'BOOTCAMP')])\n",
        "print(\"criando dicionário com 'par' de dados: \")\n",
        "print(dicionario)"
      ],
      "execution_count": 6,
      "outputs": [
        {
          "output_type": "stream",
          "text": [
            "criando dicionário com 'par' de dados: \n",
            "{1: 'IGTI', 2: 'BOOTCAMP'}\n"
          ],
          "name": "stdout"
        }
      ]
    },
    {
      "cell_type": "markdown",
      "metadata": {
        "id": "2JrI34qtwG74",
        "colab_type": "text"
      },
      "source": [
        "**Adicionando elementos a um dicionário**\n"
      ]
    },
    {
      "cell_type": "code",
      "metadata": {
        "id": "C3Rvlia2wNR7",
        "colab_type": "code",
        "colab": {
          "base_uri": "https://localhost:8080/",
          "height": 52
        },
        "outputId": "8239164b-2c0d-4256-d694-5a44eb9c986c"
      },
      "source": [
        "#criando um dicionário vazio\n",
        "dicionario = {}\n",
        "print(\"Dicionário vazio: \")\n",
        "print(dicionario)"
      ],
      "execution_count": 11,
      "outputs": [
        {
          "output_type": "stream",
          "text": [
            "Dicionário vazio: \n",
            "{}\n"
          ],
          "name": "stdout"
        }
      ]
    },
    {
      "cell_type": "code",
      "metadata": {
        "id": "QMzJT4hPwYz3",
        "colab_type": "code",
        "colab": {
          "base_uri": "https://localhost:8080/",
          "height": 52
        },
        "outputId": "fcaefeaf-d91a-419d-9d4c-e7793d58c757"
      },
      "source": [
        "#adicionando um elemento de cada vez\n",
        "dicionario[0] =  'IGTI'\n",
        "dicionario[2] =  'BOOTCAMP'\n",
        "dicionario[3] =  1\n",
        "print(\"Adicionando 3 elementos a um dicionário: \")\n",
        "print(dicionario)"
      ],
      "execution_count": 12,
      "outputs": [
        {
          "output_type": "stream",
          "text": [
            "Adicionando 3 elementos a um dicionário: \n",
            "{0: 'IGTI', 2: 'BOOTCAMP', 3: 1}\n"
          ],
          "name": "stdout"
        }
      ]
    },
    {
      "cell_type": "code",
      "metadata": {
        "id": "Gf2zcnKBxLld",
        "colab_type": "code",
        "colab": {
          "base_uri": "https://localhost:8080/",
          "height": 52
        },
        "outputId": "82a4a87e-2fb5-4ebe-def9-85a49cd9ca04"
      },
      "source": [
        "#realizando a atualização de um elemento em um dicionário\n",
        "dicionario[2] = 'MBA'\n",
        "print(\"Atualizando o valor com chave [2] no dicionário: \")\n",
        "print(dicionario)"
      ],
      "execution_count": 13,
      "outputs": [
        {
          "output_type": "stream",
          "text": [
            "Atualizando o valor com chave [2] no dicionário: \n",
            "{0: 'IGTI', 2: 'MBA', 3: 1}\n"
          ],
          "name": "stdout"
        }
      ]
    },
    {
      "cell_type": "markdown",
      "metadata": {
        "id": "Q49wuIbtxw2c",
        "colab_type": "text"
      },
      "source": [
        "**Acessando elementos em um dicionário**\n"
      ]
    },
    {
      "cell_type": "code",
      "metadata": {
        "id": "y-9SYiEhx1vK",
        "colab_type": "code",
        "colab": {}
      },
      "source": [
        "#criando um dicionário\n",
        "dicionario = {'a': 'Azul', 'v': 'Verde', 'r': 'Rosa'}"
      ],
      "execution_count": 15,
      "outputs": []
    },
    {
      "cell_type": "code",
      "metadata": {
        "id": "pYOaPF24yLj4",
        "colab_type": "code",
        "colab": {
          "base_uri": "https://localhost:8080/",
          "height": 52
        },
        "outputId": "e437b2ea-5319-4919-bef7-bad0937d4ac1"
      },
      "source": [
        "#acessando um elemento através da chave\n",
        "print(\"Acessando um elemento através da chave: \")\n",
        "print(dicionario['a'])"
      ],
      "execution_count": 16,
      "outputs": [
        {
          "output_type": "stream",
          "text": [
            "Acessando um elemento através da chave: \n",
            "Azul\n"
          ],
          "name": "stdout"
        }
      ]
    },
    {
      "cell_type": "code",
      "metadata": {
        "id": "SNT9NATNyeZX",
        "colab_type": "code",
        "colab": {
          "base_uri": "https://localhost:8080/",
          "height": 52
        },
        "outputId": "17746904-c4bd-462e-f003-e0676b252d63"
      },
      "source": [
        "#acessando um elemento através do método get()\n",
        "print(\"Acessando um elemento através do get: \")\n",
        "print(dicionario.get('v'))"
      ],
      "execution_count": 17,
      "outputs": [
        {
          "output_type": "stream",
          "text": [
            "Acessando um elemento através do get: \n",
            "Verde\n"
          ],
          "name": "stdout"
        }
      ]
    },
    {
      "cell_type": "markdown",
      "metadata": {
        "id": "qgzMTZoEyzpS",
        "colab_type": "text"
      },
      "source": [
        "**Removendo um elemento de um dicionário**"
      ]
    },
    {
      "cell_type": "code",
      "metadata": {
        "id": "9BbCqgidy8D3",
        "colab_type": "code",
        "colab": {
          "base_uri": "https://localhost:8080/",
          "height": 34
        },
        "outputId": "b053c842-07c2-48e3-8acf-e9a03d263251"
      },
      "source": [
        "#initial dictionary\n",
        "dicionario = {1 : 'IGTI', 2: 'BOOTCAMP',3:'MBA',\n",
        "              'BRASIL':{'V':'VERDE','A':'AZUL','AM':'AMARELO'},\n",
        "              'MINAS':{'VM':'VERMELHA','B':'BRANCA'}}\n",
        "print(dicionario)"
      ],
      "execution_count": 18,
      "outputs": [
        {
          "output_type": "stream",
          "text": [
            "{1: 'IGTI', 2: 'BOOTCAMP', 3: 'MBA', 'BRASIL': {'V': 'VERDE', 'A': 'AZUL', 'AM': 'AMARELO'}, 'MINAS': {'VM': 'VERMELHA', 'B': 'BRANCA'}}\n"
          ],
          "name": "stdout"
        }
      ]
    },
    {
      "cell_type": "code",
      "metadata": {
        "id": "gm6sijj2zsFs",
        "colab_type": "code",
        "colab": {
          "base_uri": "https://localhost:8080/",
          "height": 52
        },
        "outputId": "0f372ccd-1c01-4960-f2ff-b9b0e5cfcad9"
      },
      "source": [
        "#deletando um valor pela chave\n",
        "del dicionario[3]\n",
        "print(\"Deletando um elemento via chave: \")\n",
        "print(dicionario)"
      ],
      "execution_count": 19,
      "outputs": [
        {
          "output_type": "stream",
          "text": [
            "Deletando um elemento via chave: \n",
            "{1: 'IGTI', 2: 'BOOTCAMP', 'BRASIL': {'V': 'VERDE', 'A': 'AZUL', 'AM': 'AMARELO'}, 'MINAS': {'VM': 'VERMELHA', 'B': 'BRANCA'}}\n"
          ],
          "name": "stdout"
        }
      ]
    },
    {
      "cell_type": "code",
      "metadata": {
        "id": "G6T94rZo0I2M",
        "colab_type": "code",
        "colab": {
          "base_uri": "https://localhost:8080/",
          "height": 52
        },
        "outputId": "1057cba7-c5ae-4149-b456-3769841f857f"
      },
      "source": [
        "#deletando uma chave pop()\n",
        "dicionario.pop(2)\n",
        "print(\"Eliminando um chave com pop(): \")\n",
        "print(dicionario)"
      ],
      "execution_count": 21,
      "outputs": [
        {
          "output_type": "stream",
          "text": [
            "Eliminando um chave com pop(): \n",
            "{1: 'IGTI', 'BRASIL': {'V': 'VERDE', 'A': 'AZUL', 'AM': 'AMARELO'}, 'MINAS': {'VM': 'VERMELHA', 'B': 'BRANCA'}}\n"
          ],
          "name": "stdout"
        }
      ]
    },
    {
      "cell_type": "code",
      "metadata": {
        "id": "GFBSB3Kt0feB",
        "colab_type": "code",
        "colab": {
          "base_uri": "https://localhost:8080/",
          "height": 52
        },
        "outputId": "fbd2a390-3d7e-4263-cc52-5022c753906f"
      },
      "source": [
        "#deletando um item arbitrário\n",
        "dicionario.popitem()\n",
        "print(\"Deletando um valor arbitrário: \")\n",
        "print(dicionario)"
      ],
      "execution_count": 22,
      "outputs": [
        {
          "output_type": "stream",
          "text": [
            "Deletando um valor arbitrário: \n",
            "{1: 'IGTI', 'BRASIL': {'V': 'VERDE', 'A': 'AZUL', 'AM': 'AMARELO'}}\n"
          ],
          "name": "stdout"
        }
      ]
    },
    {
      "cell_type": "code",
      "metadata": {
        "id": "4rHoM7KX061V",
        "colab_type": "code",
        "colab": {
          "base_uri": "https://localhost:8080/",
          "height": 52
        },
        "outputId": "94ea62ca-b3c1-4dd8-d83e-4400f6f2d524"
      },
      "source": [
        "#deletando um dicionário inteiro\n",
        "dicionario.clear()\n",
        "print(\"Deletando todo o dicionário: \")\n",
        "print(dicionario)"
      ],
      "execution_count": 23,
      "outputs": [
        {
          "output_type": "stream",
          "text": [
            "Deletando todo o dicionário: \n",
            "{}\n"
          ],
          "name": "stdout"
        }
      ]
    },
    {
      "cell_type": "code",
      "metadata": {
        "id": "wkyp8ac6xALH",
        "colab_type": "code",
        "colab": {}
      },
      "source": [
        ""
      ],
      "execution_count": null,
      "outputs": []
    }
  ]
}

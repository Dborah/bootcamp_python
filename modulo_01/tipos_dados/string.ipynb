{
  "nbformat": 4,
  "nbformat_minor": 0,
  "metadata": {
    "colab": {
      "name": "string.ipynb",
      "provenance": [],
      "collapsed_sections": []
    },
    "kernelspec": {
      "name": "python3",
      "display_name": "Python 3"
    }
  },
  "cells": [
    {
      "cell_type": "code",
      "metadata": {
        "id": "GrM7dCDlguZS",
        "colab_type": "code",
        "colab": {
          "base_uri": "https://localhost:8080/",
          "height": 69
        },
        "outputId": "ca15c7da-c654-49e7-de16-9e0ef5b098ba"
      },
      "source": [
        "#criando uma string \n",
        "string1 = 'Fundamentos de Python'\n",
        "print(\"String com aspas simples:\")\n",
        "print(string1)\n",
        "print(type(string1))"
      ],
      "execution_count": 8,
      "outputs": [
        {
          "output_type": "stream",
          "text": [
            "String com aspas simples:\n",
            "Fundamentos de Python\n",
            "<class 'str'>\n"
          ],
          "name": "stdout"
        }
      ]
    },
    {
      "cell_type": "code",
      "metadata": {
        "id": "hNQdr6XY5bq-",
        "colab_type": "code",
        "colab": {
          "base_uri": "https://localhost:8080/",
          "height": 69
        },
        "outputId": "a9965db4-445d-42fa-ea57-f0524582e897"
      },
      "source": [
        "#string com aspas duplas\n",
        "string1 = \"Fundamentos de Python\"\n",
        "print(\"String com aspas duplas:\")\n",
        "print(string1)\n",
        "print(type(string1))\n"
      ],
      "execution_count": 7,
      "outputs": [
        {
          "output_type": "stream",
          "text": [
            "String com aspas duplas:\n",
            "Fundamentos de Python\n",
            "<class 'str'>\n"
          ],
          "name": "stdout"
        }
      ]
    },
    {
      "cell_type": "code",
      "metadata": {
        "id": "EokNJIcO6B-7",
        "colab_type": "code",
        "colab": {
          "base_uri": "https://localhost:8080/",
          "height": 69
        },
        "outputId": "5d6932ee-6b9f-445e-a428-485bc65e817b"
      },
      "source": [
        "#string com aspas triplas\n",
        "string1 = '''Fundamentos de Python'''\n",
        "print(\"String com aspas triplas:\")\n",
        "print(string1)\n",
        "print(type(string1))"
      ],
      "execution_count": 9,
      "outputs": [
        {
          "output_type": "stream",
          "text": [
            "String com aspas triplas:\n",
            "Fundamentos de Python\n",
            "<class 'str'>\n"
          ],
          "name": "stdout"
        }
      ]
    },
    {
      "cell_type": "code",
      "metadata": {
        "id": "dCvrtpc06z4x",
        "colab_type": "code",
        "colab": {
          "base_uri": "https://localhost:8080/",
          "height": 104
        },
        "outputId": "4beeb7bf-c2a4-4808-fe24-878dbd07a6d6"
      },
      "source": [
        "#aspas triplas em multiplas linhas\n",
        "string1 = '''Fundamentos \n",
        "              de\n",
        "              Python'''\n",
        "print(\"String com multiplas linhas:\")\n",
        "print(string1)\n",
        "print(type(string1))"
      ],
      "execution_count": 11,
      "outputs": [
        {
          "output_type": "stream",
          "text": [
            "String com multiplas linhas:\n",
            "Fundamentos \n",
            "              de\n",
            "              Python\n",
            "<class 'str'>\n"
          ],
          "name": "stdout"
        }
      ]
    },
    {
      "cell_type": "markdown",
      "metadata": {
        "id": "VoMOxRCe7kHI",
        "colab_type": "text"
      },
      "source": [
        "**Acessando Elementos de uma String**"
      ]
    },
    {
      "cell_type": "code",
      "metadata": {
        "id": "W5YXxfhh7zBe",
        "colab_type": "code",
        "colab": {
          "base_uri": "https://localhost:8080/",
          "height": 52
        },
        "outputId": "c9ad6a2e-e4a6-4aac-eb6a-8ddfc5f6bcec"
      },
      "source": [
        "#criando uma string\n",
        "string1 = \"InstitutoIGTI\"\n",
        "print(\"String:\")\n",
        "print(string1)"
      ],
      "execution_count": 16,
      "outputs": [
        {
          "output_type": "stream",
          "text": [
            "String:\n",
            "InstitutoIGTI\n"
          ],
          "name": "stdout"
        }
      ]
    },
    {
      "cell_type": "code",
      "metadata": {
        "id": "m4z98BPQ8WS7",
        "colab_type": "code",
        "colab": {
          "base_uri": "https://localhost:8080/",
          "height": 52
        },
        "outputId": "df6d5617-f438-484e-a74e-bb7af40931e1"
      },
      "source": [
        "#print do primeiro caracter\n",
        "print(\"O primero caracter da string é: \")\n",
        "print(string1[0])"
      ],
      "execution_count": 17,
      "outputs": [
        {
          "output_type": "stream",
          "text": [
            "O primero caracter da string é: \n",
            "I\n"
          ],
          "name": "stdout"
        }
      ]
    },
    {
      "cell_type": "code",
      "metadata": {
        "id": "87X5n5VK81gY",
        "colab_type": "code",
        "colab": {
          "base_uri": "https://localhost:8080/",
          "height": 52
        },
        "outputId": "819803f3-bf04-48a8-bea4-728b3af913d8"
      },
      "source": [
        "#print do último caracter\n",
        "print(\"O último caracter da string é: \")\n",
        "print(string1[-1])"
      ],
      "execution_count": 18,
      "outputs": [
        {
          "output_type": "stream",
          "text": [
            "O último caracter da string é: \n",
            "I\n"
          ],
          "name": "stdout"
        }
      ]
    },
    {
      "cell_type": "markdown",
      "metadata": {
        "id": "efRrax0g9tzl",
        "colab_type": "text"
      },
      "source": [
        "**Deletando ou realizando update de uma string**"
      ]
    },
    {
      "cell_type": "code",
      "metadata": {
        "id": "-1mvKbpC91_w",
        "colab_type": "code",
        "colab": {
          "base_uri": "https://localhost:8080/",
          "height": 52
        },
        "outputId": "33a49aed-1451-4c0c-8ed5-aaadcc5ab210"
      },
      "source": [
        "#criando uma string\n",
        "string1 = \"Programação Python no IGTI\"\n",
        "print(\"String inicial:\")\n",
        "print(string1)"
      ],
      "execution_count": 22,
      "outputs": [
        {
          "output_type": "stream",
          "text": [
            "String inicial:\n",
            "Programação Python no IGTI\n"
          ],
          "name": "stdout"
        }
      ]
    },
    {
      "cell_type": "code",
      "metadata": {
        "id": "ANgyZpum-RgI",
        "colab_type": "code",
        "colab": {
          "base_uri": "https://localhost:8080/",
          "height": 254
        },
        "outputId": "75038618-4230-42a5-b9fd-155eba3f98d5"
      },
      "source": [
        "#realizando o update de um caracter da string (dá erro porque strings em python é um objeto imutável)\n",
        "print(\"Caracter da posição 2: \", string1[2])\n",
        "string1[2] =  'p'\n",
        "print(\"Realizando o update para o caracter de posição (índice) [2]\")\n",
        "print(string1)"
      ],
      "execution_count": 23,
      "outputs": [
        {
          "output_type": "stream",
          "text": [
            "Caracter da posição 2:  o\n"
          ],
          "name": "stdout"
        },
        {
          "output_type": "error",
          "ename": "TypeError",
          "evalue": "ignored",
          "traceback": [
            "\u001b[0;31m---------------------------------------------------------------------------\u001b[0m",
            "\u001b[0;31mTypeError\u001b[0m                                 Traceback (most recent call last)",
            "\u001b[0;32m<ipython-input-23-51e729aa4dfe>\u001b[0m in \u001b[0;36m<module>\u001b[0;34m()\u001b[0m\n\u001b[1;32m      1\u001b[0m \u001b[0;31m#realizando o update de um caracter da string\u001b[0m\u001b[0;34m\u001b[0m\u001b[0;34m\u001b[0m\u001b[0;34m\u001b[0m\u001b[0m\n\u001b[1;32m      2\u001b[0m \u001b[0mprint\u001b[0m\u001b[0;34m(\u001b[0m\u001b[0;34m\"Caracter da posição 2: \"\u001b[0m\u001b[0;34m,\u001b[0m \u001b[0mstring1\u001b[0m\u001b[0;34m[\u001b[0m\u001b[0;36m2\u001b[0m\u001b[0;34m]\u001b[0m\u001b[0;34m)\u001b[0m\u001b[0;34m\u001b[0m\u001b[0;34m\u001b[0m\u001b[0m\n\u001b[0;32m----> 3\u001b[0;31m \u001b[0mstring1\u001b[0m\u001b[0;34m[\u001b[0m\u001b[0;36m2\u001b[0m\u001b[0;34m]\u001b[0m \u001b[0;34m=\u001b[0m  \u001b[0;34m'p'\u001b[0m\u001b[0;34m\u001b[0m\u001b[0;34m\u001b[0m\u001b[0m\n\u001b[0m\u001b[1;32m      4\u001b[0m \u001b[0mprint\u001b[0m\u001b[0;34m(\u001b[0m\u001b[0;34m\"Realizando o update para o caracter de posição (índice) [2]\"\u001b[0m\u001b[0;34m)\u001b[0m\u001b[0;34m\u001b[0m\u001b[0;34m\u001b[0m\u001b[0m\n\u001b[1;32m      5\u001b[0m \u001b[0mprint\u001b[0m\u001b[0;34m(\u001b[0m\u001b[0mstring1\u001b[0m\u001b[0;34m)\u001b[0m\u001b[0;34m\u001b[0m\u001b[0;34m\u001b[0m\u001b[0m\n",
            "\u001b[0;31mTypeError\u001b[0m: 'str' object does not support item assignment"
          ]
        }
      ]
    },
    {
      "cell_type": "code",
      "metadata": {
        "id": "cNswtLr7_iIi",
        "colab_type": "code",
        "colab": {
          "base_uri": "https://localhost:8080/",
          "height": 219
        },
        "outputId": "b189694f-b0cf-4b86-8e79-9ef014b49fc1"
      },
      "source": [
        "#deletando um caracter da string (dá erro porque strings em python é um objeto imutável)\n",
        "del string1[1]\n",
        "print(\"Deletando o caracter da posição 2: \")\n",
        "print(string1)"
      ],
      "execution_count": 25,
      "outputs": [
        {
          "output_type": "error",
          "ename": "TypeError",
          "evalue": "ignored",
          "traceback": [
            "\u001b[0;31m---------------------------------------------------------------------------\u001b[0m",
            "\u001b[0;31mTypeError\u001b[0m                                 Traceback (most recent call last)",
            "\u001b[0;32m<ipython-input-25-7fd182e6e6db>\u001b[0m in \u001b[0;36m<module>\u001b[0;34m()\u001b[0m\n\u001b[1;32m      1\u001b[0m \u001b[0;31m#deletando um caracter da string\u001b[0m\u001b[0;34m\u001b[0m\u001b[0;34m\u001b[0m\u001b[0;34m\u001b[0m\u001b[0m\n\u001b[0;32m----> 2\u001b[0;31m \u001b[0;32mdel\u001b[0m \u001b[0mstring1\u001b[0m\u001b[0;34m[\u001b[0m\u001b[0;36m1\u001b[0m\u001b[0;34m]\u001b[0m\u001b[0;34m\u001b[0m\u001b[0;34m\u001b[0m\u001b[0m\n\u001b[0m\u001b[1;32m      3\u001b[0m \u001b[0mprint\u001b[0m\u001b[0;34m(\u001b[0m\u001b[0;34m\"Deletando o caracter da posição 2: \"\u001b[0m\u001b[0;34m)\u001b[0m\u001b[0;34m\u001b[0m\u001b[0;34m\u001b[0m\u001b[0m\n\u001b[1;32m      4\u001b[0m \u001b[0mprint\u001b[0m\u001b[0;34m(\u001b[0m\u001b[0mstring1\u001b[0m\u001b[0;34m)\u001b[0m\u001b[0;34m\u001b[0m\u001b[0;34m\u001b[0m\u001b[0m\n",
            "\u001b[0;31mTypeError\u001b[0m: 'str' object doesn't support item deletion"
          ]
        }
      ]
    },
    {
      "cell_type": "markdown",
      "metadata": {
        "id": "mi-Zm67LAMjF",
        "colab_type": "text"
      },
      "source": [
        "**Utilizando 'aspas' em Strings**"
      ]
    },
    {
      "cell_type": "code",
      "metadata": {
        "id": "o_nfMTK-ATbH",
        "colab_type": "code",
        "colab": {
          "base_uri": "https://localhost:8080/",
          "height": 52
        },
        "outputId": "b01766c5-058d-4f2a-daa2-884398b3c6d8"
      },
      "source": [
        "#string inicial\n",
        "string1 = '''O IGTI possui \"bootcamp\" e 'MBA' em TI'''\n",
        "print(\"String inicial:\")\n",
        "print(string1)\n"
      ],
      "execution_count": 26,
      "outputs": [
        {
          "output_type": "stream",
          "text": [
            "String inicial:\n",
            "O IGTI possui \"bootcamp\" e 'MBA' em TI\n"
          ],
          "name": "stdout"
        }
      ]
    },
    {
      "cell_type": "code",
      "metadata": {
        "id": "lczLWgiRAtAh",
        "colab_type": "code",
        "colab": {
          "base_uri": "https://localhost:8080/",
          "height": 52
        },
        "outputId": "77124121-f508-4b46-dcca-e2bc84cf4d15"
      },
      "source": [
        "#Realizando o print das aspas simples\n",
        "string1 = 'O IGTI possui \"bootcamp\" e \\'MBA\\' em TI'\n",
        "print(\"Realizando o print da string com aspas simples :\")\n",
        "print(string1)"
      ],
      "execution_count": 28,
      "outputs": [
        {
          "output_type": "stream",
          "text": [
            "Realizando o print da string com aspas simples :\n",
            "O IGTI possui \"bootcamp\" e 'MBA' em TI\n"
          ],
          "name": "stdout"
        }
      ]
    },
    {
      "cell_type": "code",
      "metadata": {
        "id": "5T-ETOSLB8kS",
        "colab_type": "code",
        "colab": {
          "base_uri": "https://localhost:8080/",
          "height": 52
        },
        "outputId": "3c5d2866-5a3b-4f4d-d868-25565ca3d205"
      },
      "source": [
        "#Realizando o print das aspas simples\n",
        "string1 = \"O IGTI possui \\\"bootcamp\\\" e 'MBA' em TI\"\n",
        "print(\"Realizando o print da string com aspas duplas:\")\n",
        "print(string1)"
      ],
      "execution_count": 29,
      "outputs": [
        {
          "output_type": "stream",
          "text": [
            "Realizando o print da string com aspas simples :\n",
            "O IGTI possui \"bootcamp\" e 'MBA' em TI\n"
          ],
          "name": "stdout"
        }
      ]
    },
    {
      "cell_type": "markdown",
      "metadata": {
        "id": "mEaZhlx3CTFK",
        "colab_type": "text"
      },
      "source": [
        "**Transformando tipo numérico em string***"
      ]
    },
    {
      "cell_type": "code",
      "metadata": {
        "id": "o1byEdzNCa-x",
        "colab_type": "code",
        "colab": {
          "base_uri": "https://localhost:8080/",
          "height": 34
        },
        "outputId": "f36e73f7-3f72-4836-ab18-2150d341bb18"
      },
      "source": [
        "#cria um número inteiro\n",
        "n_inteiro = 100\n",
        "type(n_inteiro)\n"
      ],
      "execution_count": 30,
      "outputs": [
        {
          "output_type": "execute_result",
          "data": {
            "text/plain": [
              "int"
            ]
          },
          "metadata": {
            "tags": []
          },
          "execution_count": 30
        }
      ]
    },
    {
      "cell_type": "code",
      "metadata": {
        "id": "6FPYX7MTCl5a",
        "colab_type": "code",
        "colab": {
          "base_uri": "https://localhost:8080/",
          "height": 34
        },
        "outputId": "7cdd66f7-4f37-4260-d223-e8383e256077"
      },
      "source": [
        "#transfoma o número inteiro em string\n",
        "string_n_inteiro = str(n_inteiro)\n",
        "type(string_n_inteiro)"
      ],
      "execution_count": 31,
      "outputs": [
        {
          "output_type": "execute_result",
          "data": {
            "text/plain": [
              "str"
            ]
          },
          "metadata": {
            "tags": []
          },
          "execution_count": 31
        }
      ]
    },
    {
      "cell_type": "code",
      "metadata": {
        "id": "Msb7XxNLDazV",
        "colab_type": "code",
        "colab": {
          "base_uri": "https://localhost:8080/",
          "height": 34
        },
        "outputId": "38ef04d5-8daa-46e8-a41b-0a37eee00ac6"
      },
      "source": [
        "print(string_n_inteiro)"
      ],
      "execution_count": 33,
      "outputs": [
        {
          "output_type": "stream",
          "text": [
            "100\n"
          ],
          "name": "stdout"
        }
      ]
    },
    {
      "cell_type": "code",
      "metadata": {
        "id": "Dm7-94saC2bW",
        "colab_type": "code",
        "colab": {
          "base_uri": "https://localhost:8080/",
          "height": 52
        },
        "outputId": "6c3e7551-2d84-48de-c9b3-f807afd9eb56"
      },
      "source": [
        "print(int(string_n_inteiro))\n",
        "type(int(string_n_inteiro))"
      ],
      "execution_count": 32,
      "outputs": [
        {
          "output_type": "stream",
          "text": [
            "100\n"
          ],
          "name": "stdout"
        },
        {
          "output_type": "execute_result",
          "data": {
            "text/plain": [
              "int"
            ]
          },
          "metadata": {
            "tags": []
          },
          "execution_count": 32
        }
      ]
    }
  ]
}

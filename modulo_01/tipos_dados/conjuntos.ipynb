{
  "nbformat": 4,
  "nbformat_minor": 0,
  "metadata": {
    "colab": {
      "name": "conjuntos.ipynb",
      "provenance": []
    },
    "kernelspec": {
      "name": "python3",
      "display_name": "Python 3"
    }
  },
  "cells": [
    {
      "cell_type": "markdown",
      "metadata": {
        "id": "241s4n24bM0k",
        "colab_type": "text"
      },
      "source": [
        "**Conjuntos**\n",
        "\n",
        "\n",
        "*   Desordenada\n",
        "*   Mutável\n",
        "*   Sem elementos duplicados\n",
        "\n",
        "\n"
      ]
    },
    {
      "cell_type": "code",
      "metadata": {
        "id": "tRlxHhqabcpN",
        "colab_type": "code",
        "colab": {
          "base_uri": "https://localhost:8080/",
          "height": 69
        },
        "outputId": "6c6bb1a1-a70b-4191-9ab6-8f434d406c72"
      },
      "source": [
        "#criando um conjunto - \"set\" em pythn\n",
        "conjunto = set()\n",
        "print(\"Conjunto vazio: \")\n",
        "print(conjunto)\n",
        "print(type(conjunto))"
      ],
      "execution_count": null,
      "outputs": [
        {
          "output_type": "stream",
          "text": [
            "Conjunto vazio: \n",
            "set()\n",
            "<class 'set'>\n"
          ],
          "name": "stdout"
        }
      ]
    },
    {
      "cell_type": "code",
      "metadata": {
        "id": "V4ilcvAEcGGk",
        "colab_type": "code",
        "colab": {
          "base_uri": "https://localhost:8080/",
          "height": 52
        },
        "outputId": "21b0775e-cabe-40bc-e165-db9f560f5512"
      },
      "source": [
        "#criando um conjunto a partir de uma string\n",
        "conjunto = set(\"Python\")\n",
        "print(\"Conjunto com uma string: \")\n",
        "print(conjunto)"
      ],
      "execution_count": null,
      "outputs": [
        {
          "output_type": "stream",
          "text": [
            "Conjunto com uma string: \n",
            "{'t', 'o', 'h', 'P', 'y', 'n'}\n"
          ],
          "name": "stdout"
        }
      ]
    },
    {
      "cell_type": "code",
      "metadata": {
        "id": "54snOs12dTXM",
        "colab_type": "code",
        "colab": {
          "base_uri": "https://localhost:8080/",
          "height": 52
        },
        "outputId": "9608bff0-a6b4-4631-e3e6-f02b1346128c"
      },
      "source": [
        "#utilizando uma lista\n",
        "conjunto = set([\"IGTI\", \"MBA\", \"IGTI\"]) #na criação podem ter elementos iguais, mas o conjunto não contém elementos duplicados\n",
        "print(\"Conjunto via lista: \")\n",
        "print(conjunto)\n"
      ],
      "execution_count": null,
      "outputs": [
        {
          "output_type": "stream",
          "text": [
            "Conjunto via lista: \n",
            "{'IGTI', 'MBA'}\n"
          ],
          "name": "stdout"
        }
      ]
    },
    {
      "cell_type": "code",
      "metadata": {
        "id": "iv7xh-xGcx4E",
        "colab_type": "code",
        "colab": {
          "base_uri": "https://localhost:8080/",
          "height": 52
        },
        "outputId": "8f7b73e8-7eef-4153-afb2-641e6006face"
      },
      "source": [
        "#criando um conjunto com diferentes tipos\n",
        "conjunto = set([1, 2, 'IGTI', 4, 'BOOTCAMP', 6, 'MBA'])\n",
        "print(\"Conjunto com valores de tipos diferentes: \")\n",
        "print(conjunto)"
      ],
      "execution_count": null,
      "outputs": [
        {
          "output_type": "stream",
          "text": [
            "Conjunto com valores de tipos diferentes: \n",
            "{1, 2, 4, 6, 'IGTI', 'BOOTCAMP', 'MBA'}\n"
          ],
          "name": "stdout"
        }
      ]
    },
    {
      "cell_type": "markdown",
      "metadata": {
        "id": "LtCAUAnVeaGu",
        "colab_type": "text"
      },
      "source": [
        "**Adicionando elementos a um conjunto**"
      ]
    },
    {
      "cell_type": "code",
      "metadata": {
        "id": "2vujtqn2efAn",
        "colab_type": "code",
        "colab": {
          "base_uri": "https://localhost:8080/",
          "height": 52
        },
        "outputId": "7707140b-2204-4b1c-9e5c-ced9c298d8a5"
      },
      "source": [
        "#criando um conjunto vazio\n",
        "conjunto = set()\n",
        "print(\"Conjunto vazio: \")\n",
        "print(conjunto)"
      ],
      "execution_count": null,
      "outputs": [
        {
          "output_type": "stream",
          "text": [
            "Conjunto vazio: \n",
            "set()\n"
          ],
          "name": "stdout"
        }
      ]
    },
    {
      "cell_type": "code",
      "metadata": {
        "id": "0Q33jnGEepAW",
        "colab_type": "code",
        "colab": {
          "base_uri": "https://localhost:8080/",
          "height": 52
        },
        "outputId": "f8a3c409-b998-427b-a15e-928b05281bdf"
      },
      "source": [
        "#adicionando elemento a um conjunto com o add() - adiciona um elemento de cada vez\n",
        "conjunto.add(8)\n",
        "conjunto.add(9)\n",
        "conjunto.add((6, 7))\n",
        "print(\"conjunto após a adição de valores: \")\n",
        "print(conjunto)"
      ],
      "execution_count": null,
      "outputs": [
        {
          "output_type": "stream",
          "text": [
            "conjunto após a adição de valores: \n",
            "{8, 9, (6, 7)}\n"
          ],
          "name": "stdout"
        }
      ]
    },
    {
      "cell_type": "code",
      "metadata": {
        "id": "hd9LNQXPfUYI",
        "colab_type": "code",
        "colab": {
          "base_uri": "https://localhost:8080/",
          "height": 52
        },
        "outputId": "15a15a3e-99fc-4574-9dbc-16f218b24b46"
      },
      "source": [
        "#adicionando elementos através da função update\n",
        "conjunto.update([10, 11]) #adicionando uma lista de elementos\n",
        "print(\"Adicionando valores ao conjunto com a função update(): \")\n",
        "print(conjunto)"
      ],
      "execution_count": null,
      "outputs": [
        {
          "output_type": "stream",
          "text": [
            "Adicionando valores ao conjunto com a função update(): \n",
            "{(6, 7), 8, 9, 10, 11}\n"
          ],
          "name": "stdout"
        }
      ]
    },
    {
      "cell_type": "markdown",
      "metadata": {
        "id": "ZE4EnbJDiYrw",
        "colab_type": "text"
      },
      "source": [
        "**Acessando elementos de um conjunto**\n",
        "\n",
        "*   Como não são ordenados, não podemos acessar via indice\n",
        "\n"
      ]
    },
    {
      "cell_type": "code",
      "metadata": {
        "id": "xw0MWfYbioty",
        "colab_type": "code",
        "colab": {
          "base_uri": "https://localhost:8080/",
          "height": 52
        },
        "outputId": "9edbef88-293f-426c-c493-91c6ee3433a5"
      },
      "source": [
        "#criando um conjunto\n",
        "conjunto = set(['IGTI', 'BOOTCAMP', 'PYTHON'])\n",
        "print(\"Conjunto inicial: \")\n",
        "print(conjunto)"
      ],
      "execution_count": null,
      "outputs": [
        {
          "output_type": "stream",
          "text": [
            "Conjunto inicial: \n",
            "{'IGTI', 'BOOTCAMP', 'PYTHON'}\n"
          ],
          "name": "stdout"
        }
      ]
    },
    {
      "cell_type": "code",
      "metadata": {
        "id": "20tDjyHKi48n",
        "colab_type": "code",
        "colab": {
          "base_uri": "https://localhost:8080/",
          "height": 52
        },
        "outputId": "af5fc7af-6657-4a31-b2b0-e1beadad1bca"
      },
      "source": [
        "#acessando elementos através de um loop\n",
        "print(\"Elementos do conjunto A: \")\n",
        "for elemento in conjunto:\n",
        "  print(elemento, end = \" \")"
      ],
      "execution_count": null,
      "outputs": [
        {
          "output_type": "stream",
          "text": [
            "Elementos do conjunto A: \n",
            "IGTI BOOTCAMP PYTHON "
          ],
          "name": "stdout"
        }
      ]
    },
    {
      "cell_type": "code",
      "metadata": {
        "id": "Yu_GtLSrjq0Q",
        "colab_type": "code",
        "colab": {
          "base_uri": "https://localhost:8080/",
          "height": 34
        },
        "outputId": "f54aea82-80e5-4571-a4a4-01bc2b4f4ffb"
      },
      "source": [
        "#verificando se um elemento pertence ao conjunto\n",
        "print('IGTI' in conjunto)"
      ],
      "execution_count": null,
      "outputs": [
        {
          "output_type": "stream",
          "text": [
            "True\n"
          ],
          "name": "stdout"
        }
      ]
    },
    {
      "cell_type": "markdown",
      "metadata": {
        "id": "VDbfpDaWkKL5",
        "colab_type": "text"
      },
      "source": [
        "**Removendo elementos de um conjuto***"
      ]
    },
    {
      "cell_type": "code",
      "metadata": {
        "id": "B9ViVDYvkQoD",
        "colab_type": "code",
        "colab": {
          "base_uri": "https://localhost:8080/",
          "height": 52
        },
        "outputId": "739c1fed-cf81-451a-9d48-cce4437849e9"
      },
      "source": [
        "#criando um conjunto\n",
        "conjunto = set([1, 2, 3, 4, 5, 6,\n",
        "                7, 8, 9, 10, 11, 12])\n",
        "print(\"Conjunto inicial: \")\n",
        "print(conjunto)\n"
      ],
      "execution_count": null,
      "outputs": [
        {
          "output_type": "stream",
          "text": [
            "Conjunto inicial: \n",
            "{1, 2, 3, 4, 5, 6, 7, 8, 9, 10, 11, 12}\n"
          ],
          "name": "stdout"
        }
      ]
    },
    {
      "cell_type": "code",
      "metadata": {
        "id": "x9z9NuLtlPa2",
        "colab_type": "code",
        "colab": {
          "base_uri": "https://localhost:8080/",
          "height": 52
        },
        "outputId": "2ccb4733-65ab-44e4-c4bd-9275c94f8fc4"
      },
      "source": [
        "#removendo um elemento com a função remove()\n",
        "conjunto.remove(5)\n",
        "conjunto.remove(6)\n",
        "print(\"Conjunto após a remoção com a função remove(): \")\n",
        "print(conjunto)"
      ],
      "execution_count": null,
      "outputs": [
        {
          "output_type": "stream",
          "text": [
            "Conjunto após a remoção com a função remove(): \n",
            "{1, 2, 3, 4, 7, 8, 9, 10, 11, 12}\n"
          ],
          "name": "stdout"
        }
      ]
    },
    {
      "cell_type": "code",
      "metadata": {
        "id": "xbBoEd-Ol76V",
        "colab_type": "code",
        "colab": {
          "base_uri": "https://localhost:8080/",
          "height": 52
        },
        "outputId": "7f66e1a9-a6ff-44a1-bf98-f2eea9ecb0c7"
      },
      "source": [
        "#removendo elementos com o método discard()\n",
        "conjunto.discard(8)\n",
        "conjunto.discard(9)\n",
        "print(\"Conjunto após a remoção utilizando o método discard(): \")\n",
        "print(conjunto)"
      ],
      "execution_count": null,
      "outputs": [
        {
          "output_type": "stream",
          "text": [
            "Conjunto após a remoção utilizando o método discard(): \n",
            "{1, 2, 3, 4, 7, 10, 11, 12}\n"
          ],
          "name": "stdout"
        }
      ]
    },
    {
      "cell_type": "code",
      "metadata": {
        "id": "VEuy0fEbmPjP",
        "colab_type": "code",
        "colab": {
          "base_uri": "https://localhost:8080/",
          "height": 52
        },
        "outputId": "94db1628-ae77-4183-b5cf-8ee5f755feb2"
      },
      "source": [
        "#removendo elementos de um conjunto com o método  pop()\n",
        "conjunto.pop()\n",
        "print(\"Removendo elemento com pop(): \")\n",
        "print(conjunto)"
      ],
      "execution_count": null,
      "outputs": [
        {
          "output_type": "stream",
          "text": [
            "Removendo elemento com pop(): \n",
            "{2, 3, 4, 7, 10, 11, 12}\n"
          ],
          "name": "stdout"
        }
      ]
    },
    {
      "cell_type": "code",
      "metadata": {
        "id": "H6HoVvD6mjUW",
        "colab_type": "code",
        "colab": {
          "base_uri": "https://localhost:8080/",
          "height": 52
        },
        "outputId": "e951541e-4161-4d8b-b53f-7ee8816949e9"
      },
      "source": [
        "#limpando com conjunto com clear\n",
        "conjunto.clear()\n",
        "print(\"Removendo todos os elementos do conjunto com clear(): \")\n",
        "print(conjunto)"
      ],
      "execution_count": null,
      "outputs": [
        {
          "output_type": "stream",
          "text": [
            "Removendo todos os elementos do conjunto com clear(): \n",
            "set()\n"
          ],
          "name": "stdout"
        }
      ]
    },
    {
      "cell_type": "markdown",
      "metadata": {
        "id": "Yh6Oj4-JrEfC",
        "colab_type": "text"
      },
      "source": [
        "**Operações com conjuntos**\n",
        "\n",
        "*   União\n",
        "*   Intersecão\n",
        "*   Diferença\n",
        "*   Diferença Simétrica\n",
        "\n"
      ]
    },
    {
      "cell_type": "code",
      "metadata": {
        "id": "wA-KOq9ZtnPE",
        "colab_type": "code",
        "colab": {
          "base_uri": "https://localhost:8080/",
          "height": 52
        },
        "outputId": "105b9e66-9ccd-4676-bc59-e09a2226cde0"
      },
      "source": [
        "#definindo os conjuntos\n",
        "conjunto_A = set([1, 2, 3,])\n",
        "conjunto_B = set([3, 4, 5,])\n",
        "print(\"Conjunto A: \", conjunto_A)\n",
        "print(\"Conjunto B: \", conjunto_B)"
      ],
      "execution_count": 3,
      "outputs": [
        {
          "output_type": "stream",
          "text": [
            "Conjunto A:  {1, 2, 3}\n",
            "Conjunto B:  {3, 4, 5}\n"
          ],
          "name": "stdout"
        }
      ]
    },
    {
      "cell_type": "code",
      "metadata": {
        "id": "Wpz-zJ-2uVuj",
        "colab_type": "code",
        "colab": {
          "base_uri": "https://localhost:8080/",
          "height": 34
        },
        "outputId": "f0193d36-7649-4c72-bcf3-f22057e205de"
      },
      "source": [
        "#união\n",
        "uniao = conjunto_A.union(conjunto_B)\n",
        "print(\"União AUB: \", uniao)"
      ],
      "execution_count": 4,
      "outputs": [
        {
          "output_type": "stream",
          "text": [
            "União AUB:  {1, 2, 3, 4, 5}\n"
          ],
          "name": "stdout"
        }
      ]
    },
    {
      "cell_type": "code",
      "metadata": {
        "id": "HfzIjcoeu7mb",
        "colab_type": "code",
        "colab": {
          "base_uri": "https://localhost:8080/",
          "height": 34
        },
        "outputId": "169eeb65-be87-4d69-f1dc-b211f5aab1f4"
      },
      "source": [
        "#interseção\n",
        "intersecao = conjunto_A.intersection(conjunto_B)\n",
        "print(\"Interseção  A e B: \", intersecao)"
      ],
      "execution_count": 5,
      "outputs": [
        {
          "output_type": "stream",
          "text": [
            "Interseção  A e B:  {3}\n"
          ],
          "name": "stdout"
        }
      ]
    },
    {
      "cell_type": "code",
      "metadata": {
        "id": "w562RR9BvlTf",
        "colab_type": "code",
        "colab": {
          "base_uri": "https://localhost:8080/",
          "height": 34
        },
        "outputId": "53c1d2cb-879e-45ec-f329-0f5c4360b9bc"
      },
      "source": [
        "#diferença\n",
        "diferenca = conjunto_A.difference(conjunto_B)\n",
        "print(\"Diferença A - B: \", diferenca)"
      ],
      "execution_count": 6,
      "outputs": [
        {
          "output_type": "stream",
          "text": [
            "Diferença A - B:  {1, 2}\n"
          ],
          "name": "stdout"
        }
      ]
    },
    {
      "cell_type": "code",
      "metadata": {
        "id": "a8jbR2WvvwU_",
        "colab_type": "code",
        "colab": {
          "base_uri": "https://localhost:8080/",
          "height": 34
        },
        "outputId": "12097cc9-1003-4531-c96d-7d652ba0e2af"
      },
      "source": [
        "#diferença simétrica\n",
        "diferenca_simetrica = conjunto_A.symmetric_difference(conjunto_B)\n",
        "print(\"Diferença simétrica entre A e B: \", diferenca_simetrica)"
      ],
      "execution_count": 7,
      "outputs": [
        {
          "output_type": "stream",
          "text": [
            "Diferença simétrica entre A e B:  {1, 2, 4, 5}\n"
          ],
          "name": "stdout"
        }
      ]
    }
  ]
}

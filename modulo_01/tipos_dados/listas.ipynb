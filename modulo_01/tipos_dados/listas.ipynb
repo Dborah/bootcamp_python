{
  "nbformat": 4,
  "nbformat_minor": 0,
  "metadata": {
    "colab": {
      "name": "listas.ipynb",
      "provenance": [],
      "collapsed_sections": []
    },
    "kernelspec": {
      "name": "python3",
      "display_name": "Python 3"
    }
  },
  "cells": [
    {
      "cell_type": "code",
      "metadata": {
        "id": "x8wgtTAFEhcV",
        "colab_type": "code",
        "colab": {
          "base_uri": "https://localhost:8080/",
          "height": 69
        },
        "outputId": "f1404312-68a3-4d0f-eb97-4fa0ccc372a8"
      },
      "source": [
        "#criando uma lista em python \n",
        "lista = []\n",
        "print(\"Lista vazia: \")\n",
        "print(lista)\n",
        "print(type(lista))"
      ],
      "execution_count": null,
      "outputs": [
        {
          "output_type": "stream",
          "text": [
            "Lista vazia: \n",
            "[]\n",
            "<class 'list'>\n"
          ],
          "name": "stdout"
        }
      ]
    },
    {
      "cell_type": "code",
      "metadata": {
        "id": "bXjLwbColxG-",
        "colab_type": "code",
        "colab": {
          "base_uri": "https://localhost:8080/",
          "height": 52
        },
        "outputId": "29b80320-9b5a-4491-c3b7-cadaff7b6a93"
      },
      "source": [
        "#lista com uma string\n",
        "lista = ['IGTI']\n",
        "print(\"Lista de uma string: \")\n",
        "print(lista)"
      ],
      "execution_count": null,
      "outputs": [
        {
          "output_type": "stream",
          "text": [
            "Lista de uma string: \n",
            "['IGTI']\n"
          ],
          "name": "stdout"
        }
      ]
    },
    {
      "cell_type": "code",
      "metadata": {
        "id": "WO6wW5ZpmSDa",
        "colab_type": "code",
        "colab": {
          "base_uri": "https://localhost:8080/",
          "height": 86
        },
        "outputId": "3f259045-5782-4acf-bdb5-ddf2064241a6"
      },
      "source": [
        "#lista com vários elementos\n",
        "lista = [\"IGTI\", \"MBA\", \"Python\"]\n",
        "print(\"Lista com várias strings: \")\n",
        "print(lista)\n",
        "print(lista[0])\n",
        "print(lista[1])"
      ],
      "execution_count": null,
      "outputs": [
        {
          "output_type": "stream",
          "text": [
            "Lista com várias strings: \n",
            "['IGTI', 'MBA', 'Python']\n",
            "IGTI\n",
            "MBA\n"
          ],
          "name": "stdout"
        }
      ]
    },
    {
      "cell_type": "code",
      "metadata": {
        "id": "fRXHG9jNnGzv",
        "colab_type": "code",
        "colab": {
          "base_uri": "https://localhost:8080/",
          "height": 52
        },
        "outputId": "65ba1567-198f-4c53-c031-0ad259721834"
      },
      "source": [
        "#criando lista de listas\n",
        "lista = [['IGTI', 'MBA'], ['Python']]\n",
        "print(\"Lista com várias dimensões: \")\n",
        "print(lista)"
      ],
      "execution_count": null,
      "outputs": [
        {
          "output_type": "stream",
          "text": [
            "Lista com várias dimensões: \n",
            "[['IGTI', 'MBA'], ['Python']]\n"
          ],
          "name": "stdout"
        }
      ]
    },
    {
      "cell_type": "code",
      "metadata": {
        "id": "O9CLBLDynlNy",
        "colab_type": "code",
        "colab": {
          "base_uri": "https://localhost:8080/",
          "height": 52
        },
        "outputId": "14a7e893-8185-48f2-ac19-1af8fe1f306a"
      },
      "source": [
        "#criando uma lista com tipos diferentes de dados\n",
        "lista = [['IGTI', 'MBA'], 123, ['Python']]\n",
        "print(\"Lista com várias dimensões e valores\")\n",
        "print(lista)"
      ],
      "execution_count": null,
      "outputs": [
        {
          "output_type": "stream",
          "text": [
            "Lista com várias dimensões e valores\n",
            "[['IGTI', 'MBA'], 123, ['Python']]\n"
          ],
          "name": "stdout"
        }
      ]
    },
    {
      "cell_type": "markdown",
      "metadata": {
        "id": "iSsjeZj6oH2H",
        "colab_type": "text"
      },
      "source": [
        "**Adicionando elementos em uma lista**\n",
        "\n",
        "1 - Adiciona um elementos de cada vez\n",
        "2 - Adiciona ao final da lista\n"
      ]
    },
    {
      "cell_type": "code",
      "metadata": {
        "id": "9ApfnTqJoMhu",
        "colab_type": "code",
        "colab": {
          "base_uri": "https://localhost:8080/",
          "height": 34
        },
        "outputId": "fc2c1822-008a-42d4-c735-3c75b9d014db"
      },
      "source": [
        "#criando a lista\n",
        "lista = [1, 2, 3, 4]\n",
        "print(\"Lista numérica: \", lista)"
      ],
      "execution_count": null,
      "outputs": [
        {
          "output_type": "stream",
          "text": [
            "Lista numérica:  [1, 2, 3, 4]\n"
          ],
          "name": "stdout"
        }
      ]
    },
    {
      "cell_type": "code",
      "metadata": {
        "id": "sNZVn7axo71s",
        "colab_type": "code",
        "colab": {
          "base_uri": "https://localhost:8080/",
          "height": 34
        },
        "outputId": "21998e3a-a71c-4a84-ac8a-da7b074e10c6"
      },
      "source": [
        "#adicionando elementos com append\n",
        "lista.append(5)\n",
        "print(\"Lista numérica: \", lista)\n"
      ],
      "execution_count": null,
      "outputs": [
        {
          "output_type": "stream",
          "text": [
            "Lista numérica:  [1, 2, 3, 4, 5]\n"
          ],
          "name": "stdout"
        }
      ]
    },
    {
      "cell_type": "code",
      "metadata": {
        "id": "k7dA6V6rpjMy",
        "colab_type": "code",
        "colab": {
          "base_uri": "https://localhost:8080/",
          "height": 34
        },
        "outputId": "af0876df-6136-44d7-dbb4-fc0214196b13"
      },
      "source": [
        "#adicionando elementos com append\n",
        "lista.append('IGTI')\n",
        "print(\"Lista numérica: \", lista)\n"
      ],
      "execution_count": null,
      "outputs": [
        {
          "output_type": "stream",
          "text": [
            "Lista numérica:  [1, 2, 3, 4, 5, 'IGTI']\n"
          ],
          "name": "stdout"
        }
      ]
    },
    {
      "cell_type": "markdown",
      "metadata": {
        "id": "dFe1fXY_p26Y",
        "colab_type": "text"
      },
      "source": [
        "**Adicionando elemento com insert()**\n",
        "\n",
        "\n",
        "*   lista.insert(posicao, valor)\n",
        "\n",
        "\n",
        "\n",
        "\n"
      ]
    },
    {
      "cell_type": "code",
      "metadata": {
        "id": "CyrvLH1yqMT4",
        "colab_type": "code",
        "colab": {
          "base_uri": "https://localhost:8080/",
          "height": 34
        },
        "outputId": "31a5ce4d-7a73-488b-fb6b-1d8bf54c87bc"
      },
      "source": [
        "#cria uma lista vazia\n",
        "lista = []\n",
        "print(\"Lista vazia: \", lista)"
      ],
      "execution_count": null,
      "outputs": [
        {
          "output_type": "stream",
          "text": [
            "Lista vazia:  []\n"
          ],
          "name": "stdout"
        }
      ]
    },
    {
      "cell_type": "code",
      "metadata": {
        "id": "FKqbo8TmqX3A",
        "colab_type": "code",
        "colab": {
          "base_uri": "https://localhost:8080/",
          "height": 34
        },
        "outputId": "ea39e822-eefa-42bf-a5e3-0c02a5f2a3b0"
      },
      "source": [
        "#adiciona elementos para uma lista com append\n",
        "lista.append(\"Azul\")\n",
        "lista.append(\"Verde\")\n",
        "lista.append(\"Vermelho\")\n",
        "lista.append(\"Amarelo\")\n",
        "print(\"Lista após adicionar as cores: \", lista)"
      ],
      "execution_count": null,
      "outputs": [
        {
          "output_type": "stream",
          "text": [
            "Lista após adicionar as cores:  ['Azul', 'Verde', 'Vermelho', 'Amarelo']\n"
          ],
          "name": "stdout"
        }
      ]
    },
    {
      "cell_type": "code",
      "metadata": {
        "id": "3pwPCK6wq7vX",
        "colab_type": "code",
        "colab": {
          "base_uri": "https://localhost:8080/",
          "height": 54
        },
        "outputId": "2cb76843-02b7-4cc2-c19f-c4300a1514b7"
      },
      "source": [
        "#adicionando elementos em uma posição específica\n",
        "lista.insert(2, \"Preto\")\n",
        "lista.insert(0, \"Rosa\")\n",
        "print(\"Lista após adicionar elementos em uma posição específica: \", lista)"
      ],
      "execution_count": null,
      "outputs": [
        {
          "output_type": "stream",
          "text": [
            "Lista após adicionar elementos em uma posição específica:  ['Rosa', 'Azul', 'Verde', 'Preto', 'Vermelho', 'Amarelo']\n"
          ],
          "name": "stdout"
        }
      ]
    },
    {
      "cell_type": "markdown",
      "metadata": {
        "id": "LAKqb3n4DjGe",
        "colab_type": "text"
      },
      "source": [
        "**Adicionando elementos com o método extend()**"
      ]
    },
    {
      "cell_type": "code",
      "metadata": {
        "id": "m8MSUp3GDuwP",
        "colab_type": "code",
        "colab": {
          "base_uri": "https://localhost:8080/",
          "height": 54
        },
        "outputId": "959b8299-cc40-4114-835b-867d03737991"
      },
      "source": [
        "#adicionando vários elementos com a função extend   (#008000 - verde) (#00008B -  azul)\n",
        "lista.extend(['Branco', '#008000', '#00008B'])\n",
        "print(\"Lista após aplicar a operação extend(): \", lista)"
      ],
      "execution_count": null,
      "outputs": [
        {
          "output_type": "stream",
          "text": [
            "Lista após aplicar a operação extend():  ['Rosa', 'Azul', 'Verde', 'Preto', 'Vermelho', 'Amarelo', 'Branco', '#008000', '#00008B']\n"
          ],
          "name": "stdout"
        }
      ]
    },
    {
      "cell_type": "markdown",
      "metadata": {
        "id": "sDISqDoWExAa",
        "colab_type": "text"
      },
      "source": [
        "**Acessando elementos em uma lista**\n",
        "\n",
        "\n",
        "1.   Acessa com [indice]\n",
        "2.   Índice deve ser inteiro\n",
        "3.   Lista aninhadas dever ser acessadas através de indices aninhados\n",
        "\n"
      ]
    },
    {
      "cell_type": "code",
      "metadata": {
        "id": "HH4DSvTVFav0",
        "colab_type": "code",
        "colab": {
          "base_uri": "https://localhost:8080/",
          "height": 69
        },
        "outputId": "a91dfd6d-b123-4fa3-85b8-4cba109abd09"
      },
      "source": [
        "#criando uma lista com múltiplos valores\n",
        "lista = [\"Azul\", \"Verde\", \"Vermelho\", \"Amarelo\"]\n",
        "\n",
        "#acessando um elemento da lista\n",
        "print(\"Acessando elementos na lista: \")\n",
        "print(lista[0])\n",
        "print(lista[2])"
      ],
      "execution_count": null,
      "outputs": [
        {
          "output_type": "stream",
          "text": [
            "Acessando elementos na lista: \n",
            "Azul\n",
            "Vermelho\n"
          ],
          "name": "stdout"
        }
      ]
    },
    {
      "cell_type": "code",
      "metadata": {
        "id": "7k6qcpZGGXyC",
        "colab_type": "code",
        "colab": {
          "base_uri": "https://localhost:8080/",
          "height": 69
        },
        "outputId": "09108f55-ed5b-4e16-9d73-d9ff69cacf1f"
      },
      "source": [
        "#acessando elementos no \"sentido contrário\"\n",
        "print(\"Acessando elementos no sentido contrário: \")\n",
        "\n",
        "#último elemento da lista\n",
        "print(lista[-1])\n",
        "\n",
        "#penúltimo elemento da lista\n",
        "print(lista[-2])"
      ],
      "execution_count": null,
      "outputs": [
        {
          "output_type": "stream",
          "text": [
            "Acessando elementos no sentido contrário: \n",
            "Amarelo\n",
            "Vermelho\n"
          ],
          "name": "stdout"
        }
      ]
    },
    {
      "cell_type": "code",
      "metadata": {
        "id": "xShG6jydHK7M",
        "colab_type": "code",
        "colab": {
          "base_uri": "https://localhost:8080/",
          "height": 52
        },
        "outputId": "0fce463e-64b8-4faa-b516-0f4446a80de2"
      },
      "source": [
        "#acessando valores em lista aninhadas\n",
        "#criando uma lista aninhada\n",
        "lista = [\"Azul\", \"Verde\", \"Vermelho\", \"Amarelo\", [100, 200, 300, 400]]\n",
        "\n",
        "#acessando o elemento 200 da lista\n",
        "print(\"Acessando elementos na lista aninhada: \")\n",
        "print(lista[4][1])"
      ],
      "execution_count": null,
      "outputs": [
        {
          "output_type": "stream",
          "text": [
            "Acessando elementos na lista aninhada: \n",
            "200\n"
          ],
          "name": "stdout"
        }
      ]
    },
    {
      "cell_type": "markdown",
      "metadata": {
        "id": "QsDGvwtMIPie",
        "colab_type": "text"
      },
      "source": [
        "**Removendo elementos de uma lista**\n"
      ]
    },
    {
      "cell_type": "code",
      "metadata": {
        "id": "WszOvOOwIVYs",
        "colab_type": "code",
        "colab": {
          "base_uri": "https://localhost:8080/",
          "height": 52
        },
        "outputId": "78c07920-3a04-4aad-f7ec-f54728c50094"
      },
      "source": [
        "#criando uma lista\n",
        "lista = [1, 2, 3, 4, 5, 6,\n",
        "         7, 8, 9, 10, 11, 12, \n",
        "         'Azul', 'Verde', 35, 'Amarelo']\n",
        "\n",
        "print(\"Lista inicial: \")\n",
        "print(lista)"
      ],
      "execution_count": 41,
      "outputs": [
        {
          "output_type": "stream",
          "text": [
            "Lista inicial: \n",
            "[1, 2, 3, 4, 5, 6, 7, 8, 9, 10, 11, 12, 'Azul', 'Verde', 35, 'Amarelo']\n"
          ],
          "name": "stdout"
        }
      ]
    },
    {
      "cell_type": "code",
      "metadata": {
        "id": "GoSpox6DI1Db",
        "colab_type": "code",
        "colab": {
          "base_uri": "https://localhost:8080/",
          "height": 52
        },
        "outputId": "5bf66321-335c-48cd-ac0d-2838127146cf"
      },
      "source": [
        "#removendo elementos utilizando o remove\n",
        "lista.remove(5)\n",
        "lista.remove('Verde')\n",
        "print(\"Lista após remover os elementos: \")\n",
        "print(lista)"
      ],
      "execution_count": 42,
      "outputs": [
        {
          "output_type": "stream",
          "text": [
            "Lista após remover os elementos: \n",
            "[1, 2, 3, 4, 6, 7, 8, 9, 10, 11, 12, 'Azul', 35, 'Amarelo']\n"
          ],
          "name": "stdout"
        }
      ]
    },
    {
      "cell_type": "code",
      "metadata": {
        "id": "CDCFm9aLJ6qI",
        "colab_type": "code",
        "colab": {
          "base_uri": "https://localhost:8080/",
          "height": 34
        },
        "outputId": "7d5dbd44-f626-497f-8d0f-5c1cfbe9aba8"
      },
      "source": [
        "#removendo o último elemento com o pop()\n",
        "lista.pop()\n",
        "print(\"Lista após utilizar o pop(): \", lista)"
      ],
      "execution_count": 43,
      "outputs": [
        {
          "output_type": "stream",
          "text": [
            "Lista após utilizar o pop():  [1, 2, 3, 4, 6, 7, 8, 9, 10, 11, 12, 'Azul', 35]\n"
          ],
          "name": "stdout"
        }
      ]
    },
    {
      "cell_type": "code",
      "metadata": {
        "id": "56Btgb5yKk_E",
        "colab_type": "code",
        "colab": {
          "base_uri": "https://localhost:8080/",
          "height": 52
        },
        "outputId": "af1e033e-88a6-4942-bae6-f7a223ac4b41"
      },
      "source": [
        "#removendo um elemento de uma posição específica com pop()\n",
        "lista.pop(11)\n",
        "print(\"Lista após remover um elemento específico: \")\n",
        "print(lista)"
      ],
      "execution_count": 44,
      "outputs": [
        {
          "output_type": "stream",
          "text": [
            "Lista após remover um elemento específico: \n",
            "[1, 2, 3, 4, 6, 7, 8, 9, 10, 11, 12, 35]\n"
          ],
          "name": "stdout"
        }
      ]
    }
  ]
}

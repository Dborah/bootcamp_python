{
  "nbformat": 4,
  "nbformat_minor": 0,
  "metadata": {
    "colab": {
      "name": "entrada_dados.ipynb",
      "provenance": []
    },
    "kernelspec": {
      "name": "python3",
      "display_name": "Python 3"
    }
  },
  "cells": [
    {
      "cell_type": "markdown",
      "metadata": {
        "id": "rWGFMKwF267m",
        "colab_type": "text"
      },
      "source": [
        "**Comandos de entrada de dados**\n"
      ]
    },
    {
      "cell_type": "code",
      "metadata": {
        "id": "rKsKUvee2-0Z",
        "colab_type": "code",
        "colab": {
          "base_uri": "https://localhost:8080/",
          "height": 52
        },
        "outputId": "f4a465c7-c943-4282-8000-a15fe799a227"
      },
      "source": [
        "nome = input(\"Entre com seu nome: \")\n",
        "print(\"Meu nome é: \", nome)"
      ],
      "execution_count": 1,
      "outputs": [
        {
          "output_type": "stream",
          "text": [
            "Entre com seu nome: deborah\n",
            "Meu nome é:  deborah\n"
          ],
          "name": "stdout"
        }
      ]
    },
    {
      "cell_type": "code",
      "metadata": {
        "id": "T3soZz3S3RVM",
        "colab_type": "code",
        "colab": {
          "base_uri": "https://localhost:8080/",
          "height": 34
        },
        "outputId": "4d0e18c2-6cac-4ff2-e683-8e1a1f0a829b"
      },
      "source": [
        "#tipo de dado armazenado\n",
        "type(nome)"
      ],
      "execution_count": 2,
      "outputs": [
        {
          "output_type": "execute_result",
          "data": {
            "text/plain": [
              "str"
            ]
          },
          "metadata": {
            "tags": []
          },
          "execution_count": 2
        }
      ]
    },
    {
      "cell_type": "code",
      "metadata": {
        "id": "X8w9XPBG3l4J",
        "colab_type": "code",
        "colab": {
          "base_uri": "https://localhost:8080/",
          "height": 52
        },
        "outputId": "aeb92bb0-5ac7-43ac-d53a-522836fbe720"
      },
      "source": [
        "idade = input(\"Entre com sua idade: \")\n",
        "print(\"Minha idade é: \", idade)"
      ],
      "execution_count": 3,
      "outputs": [
        {
          "output_type": "stream",
          "text": [
            "Entre com sua idade: 543\n",
            "Minha idade é:  543\n"
          ],
          "name": "stdout"
        }
      ]
    },
    {
      "cell_type": "code",
      "metadata": {
        "id": "qz85Jazf3ueP",
        "colab_type": "code",
        "colab": {
          "base_uri": "https://localhost:8080/",
          "height": 34
        },
        "outputId": "8f7f4e5c-b363-4479-c3b6-aae2f55a4a48"
      },
      "source": [
        "type(idade)"
      ],
      "execution_count": 4,
      "outputs": [
        {
          "output_type": "execute_result",
          "data": {
            "text/plain": [
              "str"
            ]
          },
          "metadata": {
            "tags": []
          },
          "execution_count": 4
        }
      ]
    },
    {
      "cell_type": "markdown",
      "metadata": {
        "id": "7XL0VEb735fI",
        "colab_type": "text"
      },
      "source": [
        "**Formatando saídas**\n"
      ]
    },
    {
      "cell_type": "code",
      "metadata": {
        "id": "54T-COq_39on",
        "colab_type": "code",
        "colab": {
          "base_uri": "https://localhost:8080/",
          "height": 52
        },
        "outputId": "0dbb0ad9-cfb2-4378-9d4d-049ba0178a0f"
      },
      "source": [
        "#realizando a entrada de dados\n",
        "base = float(input(\"Entre com um valor para a base: \"))\n",
        "expoente = float(input(\"Entre com um valor para ser o expoente: \"))\n",
        "resultado = base**expoente"
      ],
      "execution_count": 8,
      "outputs": [
        {
          "output_type": "stream",
          "text": [
            "Entre com um valor para a base: 10\n",
            "Entre com um valor para ser o expoente: 5\n"
          ],
          "name": "stdout"
        }
      ]
    },
    {
      "cell_type": "code",
      "metadata": {
        "id": "I5DRn7lo4cHl",
        "colab_type": "code",
        "colab": {
          "base_uri": "https://localhost:8080/",
          "height": 34
        },
        "outputId": "0587a8c3-c528-46a7-b918-d3c1c084756b"
      },
      "source": [
        "print(str(base)+ \"^\"+ str(expoente), \"=\", resultado)"
      ],
      "execution_count": 9,
      "outputs": [
        {
          "output_type": "stream",
          "text": [
            "10.0^5.0 = 100000.0\n"
          ],
          "name": "stdout"
        }
      ]
    },
    {
      "cell_type": "code",
      "metadata": {
        "id": "6th6_9M24sxL",
        "colab_type": "code",
        "colab": {
          "base_uri": "https://localhost:8080/",
          "height": 34
        },
        "outputId": "b9035014-a811-45b1-c739-b1c5377c3385"
      },
      "source": [
        "print(\" %1.2f ^%1.2f = %1.4f\" %(base, expoente, resultado))"
      ],
      "execution_count": 10,
      "outputs": [
        {
          "output_type": "stream",
          "text": [
            " 10.00 ^5.00 = 100000.0000\n"
          ],
          "name": "stdout"
        }
      ]
    }
  ]
}

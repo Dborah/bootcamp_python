{
  "nbformat": 4,
  "nbformat_minor": 0,
  "metadata": {
    "colab": {
      "name": "tipos_dados.ipynb",
      "provenance": [],
      "collapsed_sections": []
    },
    "kernelspec": {
      "name": "python3",
      "display_name": "Python 3"
    }
  },
  "cells": [
    {
      "cell_type": "code",
      "metadata": {
        "id": "sx346oOHoGc_",
        "colab_type": "code",
        "colab": {
          "base_uri": "https://localhost:8080/",
          "height": 34
        },
        "outputId": "b0bdfe53-1775-47ac-8c0b-98d31d77f204"
      },
      "source": [
        "#atribuição de valores\n",
        "\n",
        "#<identificador>=<expressão>\n",
        "\n",
        "cateto_a = 4\n",
        "endereco = id(cateto_a)\n",
        "print(endereco)"
      ],
      "execution_count": null,
      "outputs": [
        {
          "output_type": "stream",
          "text": [
            "10914592\n"
          ],
          "name": "stdout"
        }
      ]
    },
    {
      "cell_type": "code",
      "metadata": {
        "id": "KhxkfQoEEcOn",
        "colab_type": "code",
        "colab": {
          "base_uri": "https://localhost:8080/",
          "height": 34
        },
        "outputId": "4f69f2ef-6d63-4b9b-99cf-09e5d805981b"
      },
      "source": [
        "hexa_endereco = hex(endereco)\n",
        "print(hexa_endereco)"
      ],
      "execution_count": null,
      "outputs": [
        {
          "output_type": "stream",
          "text": [
            "0xa68b20\n"
          ],
          "name": "stdout"
        }
      ]
    },
    {
      "cell_type": "code",
      "metadata": {
        "id": "R_qUi-3uFbt5",
        "colab_type": "code",
        "colab": {
          "base_uri": "https://localhost:8080/",
          "height": 52
        },
        "outputId": "ded147d9-5d19-48fa-9c9d-cf03006192f9"
      },
      "source": [
        "#a = 10\n",
        "a = 10\n",
        "print(a)\n",
        "print(id(a))\n"
      ],
      "execution_count": null,
      "outputs": [
        {
          "output_type": "stream",
          "text": [
            "10\n",
            "10914784\n"
          ],
          "name": "stdout"
        }
      ]
    },
    {
      "cell_type": "code",
      "metadata": {
        "id": "4IGUSPyJFm3P",
        "colab_type": "code",
        "colab": {
          "base_uri": "https://localhost:8080/",
          "height": 52
        },
        "outputId": "c6337aaa-4b3f-4603-e068-edce406b23f9"
      },
      "source": [
        "b = 10\n",
        "print(b)\n",
        "print(id(b))"
      ],
      "execution_count": null,
      "outputs": [
        {
          "output_type": "stream",
          "text": [
            "10\n",
            "10914784\n"
          ],
          "name": "stdout"
        }
      ]
    },
    {
      "cell_type": "code",
      "metadata": {
        "id": "520t4tMrFtKM",
        "colab_type": "code",
        "colab": {
          "base_uri": "https://localhost:8080/",
          "height": 34
        },
        "outputId": "caf131c0-268b-4e19-d4cf-151c514b9f3a"
      },
      "source": [
        "#verificando se os id de a e b são os mesmos\n",
        "id(a) == id(b)\n"
      ],
      "execution_count": null,
      "outputs": [
        {
          "output_type": "execute_result",
          "data": {
            "text/plain": [
              "True"
            ]
          },
          "metadata": {
            "tags": []
          },
          "execution_count": 11
        }
      ]
    },
    {
      "cell_type": "code",
      "metadata": {
        "id": "TD-xBdRzGZJK",
        "colab_type": "code",
        "colab": {
          "base_uri": "https://localhost:8080/",
          "height": 52
        },
        "outputId": "ccbb24ec-543e-4d59-e162-b97359deddf1"
      },
      "source": [
        "a = 10\n",
        "b = a\n",
        "print(a)\n",
        "print(b)"
      ],
      "execution_count": null,
      "outputs": [
        {
          "output_type": "stream",
          "text": [
            "10\n",
            "10\n"
          ],
          "name": "stdout"
        }
      ]
    },
    {
      "cell_type": "code",
      "metadata": {
        "id": "cxhHQzJHGpLc",
        "colab_type": "code",
        "colab": {
          "base_uri": "https://localhost:8080/",
          "height": 34
        },
        "outputId": "5ee216cb-fa52-47ac-9105-474a3df94620"
      },
      "source": [
        "#verificando se os id de a e b são os mesmos\n",
        "id(a) == id(b)"
      ],
      "execution_count": null,
      "outputs": [
        {
          "output_type": "execute_result",
          "data": {
            "text/plain": [
              "True"
            ]
          },
          "metadata": {
            "tags": []
          },
          "execution_count": 13
        }
      ]
    },
    {
      "cell_type": "code",
      "metadata": {
        "id": "TwDlCLBYGz_c",
        "colab_type": "code",
        "colab": {
          "base_uri": "https://localhost:8080/",
          "height": 86
        },
        "outputId": "e9d243ac-f88a-4bc3-8a13-ef21e2a5e433"
      },
      "source": [
        "#atruibuindo novos valores\n",
        "a = 10\n",
        "b = 10\n",
        "print(a)\n",
        "print(b)\n",
        "id(a) == id(b)\n",
        "b = 30\n",
        "print (b)\n",
        "id(a) == id(b)"
      ],
      "execution_count": null,
      "outputs": [
        {
          "output_type": "stream",
          "text": [
            "10\n",
            "10\n",
            "30\n"
          ],
          "name": "stdout"
        },
        {
          "output_type": "execute_result",
          "data": {
            "text/plain": [
              "False"
            ]
          },
          "metadata": {
            "tags": []
          },
          "execution_count": 14
        }
      ]
    },
    {
      "cell_type": "code",
      "metadata": {
        "id": "mAFQjsLWZ7eK",
        "colab_type": "code",
        "colab": {
          "base_uri": "https://localhost:8080/",
          "height": 34
        },
        "outputId": "3c006ec4-1109-454a-c00b-c04ade123172"
      },
      "source": [
        "#atribuição de valores\n",
        "x = 1\n",
        "endereco = id(x)\n",
        "print(hex(endereco))"
      ],
      "execution_count": null,
      "outputs": [
        {
          "output_type": "stream",
          "text": [
            "0xa68ac0\n"
          ],
          "name": "stdout"
        }
      ]
    },
    {
      "cell_type": "code",
      "metadata": {
        "id": "apZ6-md7cwT8",
        "colab_type": "code",
        "colab": {
          "base_uri": "https://localhost:8080/",
          "height": 34
        },
        "outputId": "7bb5de68-93a1-4dd6-e0ea-c5c477a635d7"
      },
      "source": [
        "#atribuindo valores\n",
        "x = x + 1\n",
        "endereco = id(x)\n",
        "print(hex(endereco))\n"
      ],
      "execution_count": null,
      "outputs": [
        {
          "output_type": "stream",
          "text": [
            "0xa68ae0\n"
          ],
          "name": "stdout"
        }
      ]
    },
    {
      "cell_type": "code",
      "metadata": {
        "id": "lPF4F0eSd7Q1",
        "colab_type": "code",
        "colab": {
          "base_uri": "https://localhost:8080/",
          "height": 69
        },
        "outputId": "470f9f49-ac3b-4bea-fc79-204fef177494"
      },
      "source": [
        "#demonstrando dados numéricos\n",
        "a = 5\n",
        "print('Tipo de dados de a: ', type(a))\n",
        "\n",
        "b = 5.0\n",
        "print('Tipo de dados de a: ', type(b))\n",
        "\n",
        "c = 2 + 4j\n",
        "print('Tipo de dados de a: ', type(c))"
      ],
      "execution_count": 18,
      "outputs": [
        {
          "output_type": "stream",
          "text": [
            "Tipo de dados de a:  <class 'int'>\n",
            "Tipo de dados de a:  <class 'float'>\n",
            "Tipo de dados de a:  <class 'complex'>\n"
          ],
          "name": "stdout"
        }
      ]
    }
  ]
}
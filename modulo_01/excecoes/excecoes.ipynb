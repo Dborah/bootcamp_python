{
  "nbformat": 4,
  "nbformat_minor": 0,
  "metadata": {
    "colab": {
      "name": "excecoes.ipynb",
      "provenance": [],
      "collapsed_sections": []
    },
    "kernelspec": {
      "name": "python3",
      "display_name": "Python 3"
    }
  },
  "cells": [
    {
      "cell_type": "code",
      "metadata": {
        "id": "zUrXfvmRX69t",
        "colab_type": "code",
        "colab": {
          "base_uri": "https://localhost:8080/",
          "height": 219
        },
        "outputId": "9bd26f82-c781-4487-92a9-699f50db2afd"
      },
      "source": [
        "#gerando um exceção\n",
        "x = 10\n",
        "if x > 5:\n",
        "  raise Exception('x não deve ser maior que 5. O valor de x digitado foi: {}'.format(x))\n",
        "print(\"Fim do código.\")\n"
      ],
      "execution_count": 2,
      "outputs": [
        {
          "output_type": "error",
          "ename": "Exception",
          "evalue": "ignored",
          "traceback": [
            "\u001b[0;31m---------------------------------------------------------------------------\u001b[0m",
            "\u001b[0;31mException\u001b[0m                                 Traceback (most recent call last)",
            "\u001b[0;32m<ipython-input-2-0e73683fc511>\u001b[0m in \u001b[0;36m<module>\u001b[0;34m()\u001b[0m\n\u001b[1;32m      2\u001b[0m \u001b[0mx\u001b[0m \u001b[0;34m=\u001b[0m \u001b[0;36m10\u001b[0m\u001b[0;34m\u001b[0m\u001b[0;34m\u001b[0m\u001b[0m\n\u001b[1;32m      3\u001b[0m \u001b[0;32mif\u001b[0m \u001b[0mx\u001b[0m \u001b[0;34m>\u001b[0m \u001b[0;36m5\u001b[0m\u001b[0;34m:\u001b[0m\u001b[0;34m\u001b[0m\u001b[0;34m\u001b[0m\u001b[0m\n\u001b[0;32m----> 4\u001b[0;31m   \u001b[0;32mraise\u001b[0m \u001b[0mException\u001b[0m\u001b[0;34m(\u001b[0m\u001b[0;34m'x não deve ser maior que 5. O valor de x digitado foi: {}'\u001b[0m\u001b[0;34m.\u001b[0m\u001b[0mformat\u001b[0m\u001b[0;34m(\u001b[0m\u001b[0mx\u001b[0m\u001b[0;34m)\u001b[0m\u001b[0;34m)\u001b[0m\u001b[0;34m\u001b[0m\u001b[0;34m\u001b[0m\u001b[0m\n\u001b[0m\u001b[1;32m      5\u001b[0m \u001b[0mprint\u001b[0m\u001b[0;34m(\u001b[0m\u001b[0;34m\"Fim do código.\"\u001b[0m\u001b[0;34m)\u001b[0m\u001b[0;34m\u001b[0m\u001b[0;34m\u001b[0m\u001b[0m\n",
            "\u001b[0;31mException\u001b[0m: x não deve ser maior que 5. O valor de x digitado foi: 10"
          ]
        }
      ]
    },
    {
      "cell_type": "code",
      "metadata": {
        "id": "0tRfwXLFP-VR",
        "colab_type": "code",
        "colab": {
          "base_uri": "https://localhost:8080/",
          "height": 69
        },
        "outputId": "84eb1a40-7669-4ede-81c6-073e279c9b9e"
      },
      "source": [
        "#lidando com erros - verificando se um número  é divisível por outro\n",
        "numerador = int(input(\"Entre com o numerador: \"))\n",
        "denominador = int(input(\"Entre com o denominador: \"))\n",
        "\n",
        "if numerador % denominador == 0:\n",
        "  print(\"O numerador é divisível pelo denominador\")\n",
        "else:\n",
        "  print(\"A divisão não é inteira\")"
      ],
      "execution_count": 4,
      "outputs": [
        {
          "output_type": "stream",
          "text": [
            "Entre com o numerador: 10\n",
            "Entre com o denominador: 5\n",
            "O numerador é divisível pelo denominador\n"
          ],
          "name": "stdout"
        }
      ]
    },
    {
      "cell_type": "code",
      "metadata": {
        "id": "zmne6VZ9R1r1",
        "colab_type": "code",
        "colab": {
          "base_uri": "https://localhost:8080/",
          "height": 86
        },
        "outputId": "e8de3352-7660-44a1-acbf-554af9f9a148"
      },
      "source": [
        "#exemplo de tratamento de exceção\n",
        "try:\n",
        "  numerador = int(input(\"Entre com o numerador: \"))\n",
        "except ValueError: # captura apenas exceções do tipo ValueErros\n",
        "  print(\"Você não entrou com um número inteiro.\")\n",
        "  exit(0)\n",
        "\n",
        "try:\n",
        "  denominador = int(input(\"Entre com o denominador: \"))\n",
        "except: #lida com qualquer tipo de erro\n",
        "  print(\"Você não entrou com um número inteiro.\")\n",
        "  exit(0)\n",
        "\n",
        "try:\n",
        "  if numerador % denominador == 0:\n",
        "    print(\"O numerador é divisível pelo denominador. \")\n",
        "  else:\n",
        "    print(\"A divisão não é inteira\")\n",
        "except ZeroDivisionError: #captura divisões por zero\n",
        "  print(\"Denominador não pode ser zero.\")\n",
        "\n",
        "\n"
      ],
      "execution_count": 6,
      "outputs": [
        {
          "output_type": "stream",
          "text": [
            "Entre com o numerador: 10.4\n",
            "Você não entrou com um número inteiro.\n",
            "Entre com o denominador: 5\n",
            "O numerador é divisível pelo denominador. \n"
          ],
          "name": "stdout"
        }
      ]
    },
    {
      "cell_type": "markdown",
      "metadata": {
        "id": "9DbZwcWdTzdu",
        "colab_type": "text"
      },
      "source": [
        "**Quando utilizar em seu código ?**"
      ]
    },
    {
      "cell_type": "code",
      "metadata": {
        "id": "PvCyd3rnT6N5",
        "colab_type": "code",
        "colab": {
          "base_uri": "https://localhost:8080/",
          "height": 167
        },
        "outputId": "bcbe44d3-acac-4a4f-969c-a9a90ed66bd9"
      },
      "source": [
        "raise KeyError(\"Isso que ocorre\")"
      ],
      "execution_count": 1,
      "outputs": [
        {
          "output_type": "error",
          "ename": "KeyError",
          "evalue": "ignored",
          "traceback": [
            "\u001b[0;31m---------------------------------------------------------------------------\u001b[0m",
            "\u001b[0;31mKeyError\u001b[0m                                  Traceback (most recent call last)",
            "\u001b[0;32m<ipython-input-1-dc1a15362890>\u001b[0m in \u001b[0;36m<module>\u001b[0;34m()\u001b[0m\n\u001b[0;32m----> 1\u001b[0;31m \u001b[0;32mraise\u001b[0m \u001b[0mKeyError\u001b[0m\u001b[0;34m(\u001b[0m\u001b[0;34m\"Isso que ocorre\"\u001b[0m\u001b[0;34m)\u001b[0m\u001b[0;34m\u001b[0m\u001b[0;34m\u001b[0m\u001b[0m\n\u001b[0m",
            "\u001b[0;31mKeyError\u001b[0m: 'Isso que ocorre'"
          ]
        }
      ]
    },
    {
      "cell_type": "code",
      "metadata": {
        "id": "zTVcWFONUFMR",
        "colab_type": "code",
        "colab": {
          "base_uri": "https://localhost:8080/",
          "height": 52
        },
        "outputId": "3d8f0e03-ebaf-4059-9c95-3447ba3393a7"
      },
      "source": [
        "idades = {'Tulio':30, 'Maria': 28, 'Antônio': 33}\n",
        "pessoa = input(\"Quero saber a idade de: \")\n",
        "idade = idades.get(pessoa)\n",
        "\n",
        "if idade:\n",
        "  print(f'{pessoa} tem {idade} anos de idade')\n",
        "else:\n",
        "  print(f\"{pessoa} com idade desconhecida\")"
      ],
      "execution_count": 3,
      "outputs": [
        {
          "output_type": "stream",
          "text": [
            "Quero saber a idade de: Maria\n",
            "Maria tem 28 anos de idade\n"
          ],
          "name": "stdout"
        }
      ]
    },
    {
      "cell_type": "code",
      "metadata": {
        "id": "iGLS3vvOVYGf",
        "colab_type": "code",
        "colab": {
          "base_uri": "https://localhost:8080/",
          "height": 52
        },
        "outputId": "a1122168-1aed-4d8c-b754-c8746a4b1f00"
      },
      "source": [
        "idades = {'Tulio':30, 'Maria': 28, 'Antônio': 33}\n",
        "pessoa = input(\"Quero saber a idade de: \")\n",
        "idade = idades.get(pessoa)\n",
        "\n",
        "try:\n",
        "  print(f'{pessoa} tem {idades[pessoa]} anos de idade')\n",
        "except KeyError:\n",
        "  print(f\"{pessoa} com idade desconhecida\")"
      ],
      "execution_count": 5,
      "outputs": [
        {
          "output_type": "stream",
          "text": [
            "Quero saber a idade de: dsdsds\n",
            "dsdsds com idade desconhecida\n"
          ],
          "name": "stdout"
        }
      ]
    }
  ]
}

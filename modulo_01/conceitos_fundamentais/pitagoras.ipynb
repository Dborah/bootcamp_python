{
  "nbformat": 4,
  "nbformat_minor": 0,
  "metadata": {
    "colab": {
      "name": "pitagoras.ipynb",
      "provenance": [],
      "collapsed_sections": []
    },
    "kernelspec": {
      "name": "python3",
      "display_name": "Python 3"
    }
  },
  "cells": [
    {
      "cell_type": "code",
      "metadata": {
        "id": "sx346oOHoGc_",
        "colab_type": "code",
        "colab": {
          "base_uri": "https://localhost:8080/",
          "height": 34
        },
        "outputId": "068aebd1-06fc-4b95-a050-d0ff3eb40c2b"
      },
      "source": [
        "#aplicando o teorema de pitágoras\n",
        "b = 3\n",
        "c = 4\n",
        "a2 = (b**2)+ (c**2)\n",
        "print(a2)\n"
      ],
      "execution_count": 3,
      "outputs": [
        {
          "output_type": "stream",
          "text": [
            "25\n"
          ],
          "name": "stdout"
        }
      ]
    },
    {
      "cell_type": "code",
      "metadata": {
        "id": "Cke1zWA1ANXy",
        "colab_type": "code",
        "colab": {
          "base_uri": "https://localhost:8080/",
          "height": 34
        },
        "outputId": "981b7fc0-b879-4cbf-97ae-e01c0a5c4c4c"
      },
      "source": [
        "a = a2**0.5\n",
        "print('O valor da hipotenusa (a) é:', a)\n"
      ],
      "execution_count": 4,
      "outputs": [
        {
          "output_type": "stream",
          "text": [
            "O valor da hipotenusa (a) é: 5.0\n"
          ],
          "name": "stdout"
        }
      ]
    }
  ]
}

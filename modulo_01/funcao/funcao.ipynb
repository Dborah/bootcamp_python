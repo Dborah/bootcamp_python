{
  "nbformat": 4,
  "nbformat_minor": 0,
  "metadata": {
    "colab": {
      "name": "funcao.ipynb",
      "provenance": []
    },
    "kernelspec": {
      "name": "python3",
      "display_name": "Python 3"
    }
  },
  "cells": [
    {
      "cell_type": "markdown",
      "metadata": {
        "id": "FYo2BhhvR_Yr",
        "colab_type": "text"
      },
      "source": [
        "**Funções em python**\n"
      ]
    },
    {
      "cell_type": "code",
      "metadata": {
        "id": "DWeMzE1SSEJx",
        "colab_type": "code",
        "colab": {}
      },
      "source": [
        "#definindo a função em python \n",
        "def equacao_reta(x):\n",
        "  y_x = 2*x+1\n",
        "  return y_x"
      ],
      "execution_count": 10,
      "outputs": []
    },
    {
      "cell_type": "code",
      "metadata": {
        "id": "qadDGFuDSZ2P",
        "colab_type": "code",
        "colab": {
          "base_uri": "https://localhost:8080/",
          "height": 52
        },
        "outputId": "cc855eaf-7fda-4ed4-a9f4-4e9f5ea09d71"
      },
      "source": [
        "#chamando a função\n",
        "x = float(input(\"Entre com um valor de y a ser calculado: \"))\n",
        "resultado = equacao_reta(x)\n",
        "print(\"O resultado é y = %.2d \" %resultado)"
      ],
      "execution_count": 12,
      "outputs": [
        {
          "output_type": "stream",
          "text": [
            "Entre com um valor de y a ser calculado: 4\n",
            "O resultado é y = 09 \n"
          ],
          "name": "stdout"
        }
      ]
    }
  ]
}

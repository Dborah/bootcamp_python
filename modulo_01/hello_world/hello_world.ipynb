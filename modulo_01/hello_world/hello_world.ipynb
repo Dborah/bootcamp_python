{
  "nbformat": 4,
  "nbformat_minor": 0,
  "metadata": {
    "colab": {
      "name": "hello_world.ipynb",
      "provenance": [],
      "collapsed_sections": []
    },
    "kernelspec": {
      "name": "python3",
      "display_name": "Python 3"
    }
  },
  "cells": [
    {
      "cell_type": "code",
      "metadata": {
        "id": "sx346oOHoGc_",
        "colab_type": "code",
        "colab": {
          "base_uri": "https://localhost:8080/",
          "height": 34
        },
        "outputId": "e44a439c-bc22-4a7b-b9fc-c21ca6bd93dd"
      },
      "source": [
        "#comentário em python\n",
        "print('Hello World!')"
      ],
      "execution_count": 2,
      "outputs": [
        {
          "output_type": "stream",
          "text": [
            "Hello World!\n"
          ],
          "name": "stdout"
        }
      ]
    },
    {
      "cell_type": "markdown",
      "metadata": {
        "id": "4oKIwAq58N4i",
        "colab_type": "text"
      },
      "source": [
        "Esta é uma célula de texto"
      ]
    }
  ]
}